{
 "cells": [
  {
   "cell_type": "code",
   "execution_count": 6,
   "metadata": {
    "id": "MVI02zqeksCK"
   },
   "outputs": [
    {
     "name": "stderr",
     "output_type": "stream",
     "text": [
      "Using TensorFlow backend.\n"
     ]
    }
   ],
   "source": [
    "# basics\n",
    "from IPython import get_ipython\n",
    "get_ipython().magic('reset -sf')\n",
    "import pandas as pd\n",
    "#import cv2\n",
    "import numpy as np\n",
    "from collections import Counter\n",
    "import matplotlib.pyplot as plt\n",
    "%matplotlib inline\n",
    "import scipy.stats as stats\n",
    "import seaborn as sns\n",
    "from glob import glob\n",
    "import os\n",
    "plt.style.use('ggplot')\n",
    "from bayes_opt import BayesianOptimization\n",
    "import tensorflow as tf\n",
    "from sklearn.manifold import TSNE\n",
    "from sklearn.decomposition import PCA, TruncatedSVD\n",
    "import matplotlib.patches as mpatches\n",
    "import time\n",
    "\n",
    "# preprocess\n",
    "from sklearn.model_selection import train_test_split, StratifiedKFold\n",
    "from sklearn.preprocessing import PowerTransformer\n",
    "\n",
    "# Classifier Libraries\n",
    "import collections\n",
    "from lightgbm import LGBMClassifier\n",
    "\n",
    "# preprocess\n",
    "from imblearn.pipeline import Pipeline, make_pipeline\n",
    "from imblearn import under_sampling\n",
    "from imblearn.over_sampling import RandomOverSampler\n",
    "from imblearn.over_sampling import SMOTE\n",
    "from sklearn.model_selection import KFold, StratifiedKFold\n",
    "from sklearn.model_selection import train_test_split\n",
    "from sklearn.preprocessing import PowerTransformer\n",
    "from sklearn.preprocessing import RobustScaler\n",
    "from sklearn.preprocessing import StandardScaler\n",
    "from collections import Counter\n",
    "\n",
    "# Classifier Libraries\n",
    "from sklearn.linear_model import LogisticRegression\n",
    "from sklearn.ensemble import VotingClassifier\n",
    "import collections\n",
    "from lightgbm import LGBMClassifier\n",
    "from sklearn.naive_bayes import GaussianNB\n",
    "import lightgbm as lgb\n",
    "from catboost import CatBoostClassifier\n",
    "from xgboost import XGBClassifier\n",
    "import xgboost as xgb\n",
    "import catboost as cgb\n",
    "from functools import partial\n",
    "\n",
    "#keras\n",
    "import tensorflow.keras.initializers\n",
    "import tensorflow.keras\n",
    "from tensorflow import keras\n",
    "import keras \n",
    "from keras.models import Sequential\n",
    "from keras.layers import Dense\n",
    "from keras.wrappers.scikit_learn import KerasClassifier\n",
    "import statistics\n",
    "from tensorflow.keras.models import Sequential\n",
    "from tensorflow.keras.layers import Dense, Activation, InputLayer\n",
    "from tensorflow.keras import regularizers\n",
    "from tensorflow.keras.callbacks import EarlyStopping\n",
    "from tensorflow.keras.optimizers import Adam\n",
    "\n",
    "# resample\n",
    "from imblearn.over_sampling import RandomOverSampler\n",
    "from imblearn.under_sampling import RandomUnderSampler\n",
    "from imblearn.over_sampling import SMOTE\n",
    "from imblearn import under_sampling\n",
    "\n",
    "# imbalanced\n",
    "from imblearn.pipeline import Pipeline\n",
    "from sklearn.pipeline import make_pipeline\n",
    "from imblearn.pipeline import make_pipeline as imbalanced_make_pipeline\n",
    "from imblearn.metrics import classification_report_imbalanced\n",
    "\n",
    "# evalue\n",
    "from numpy import mean\n",
    "from sklearn import metrics\n",
    "from sklearn.model_selection import cross_validate\n",
    "from sklearn.model_selection import cross_val_score\n",
    "from sklearn.metrics import roc_auc_score\n",
    "from sklearn.metrics import precision_score, recall_score\n",
    "from sklearn.metrics import average_precision_score \n",
    "from sklearn.metrics import log_loss\n",
    "from sklearn.metrics import precision_recall_curve, plot_precision_recall_curve\n",
    "from sklearn.metrics import SCORERS\n",
    "from sklearn.metrics import classification_report, f1_score\n",
    "from sklearn.metrics import roc_curve, plot_roc_curve\n",
    "from sklearn.metrics import confusion_matrix\n",
    "from sklearn.metrics import accuracy_score\n",
    "from sklearn.metrics import matthews_corrcoef\n",
    "\n",
    "# warning\n",
    "import warnings\n",
    "warnings.filterwarnings(\"ignore\")"
   ]
  },
  {
   "cell_type": "code",
   "execution_count": 2,
   "metadata": {
    "colab": {
     "base_uri": "https://localhost:8080/"
    },
    "id": "Y9rGioDqcuCR",
    "outputId": "eef2f013-d5e7-48bf-8c7b-ba6c64879b31"
   },
   "outputs": [
    {
     "name": "stdout",
     "output_type": "stream",
     "text": [
      "Full dataset has 284807 rows and 31 columns\n"
     ]
    }
   ],
   "source": [
    "data = pd.read_csv('creditcard.csv')\n",
    "print(\"Full dataset has\",data.shape[0], \"rows and\", data.shape[1], \"columns\")"
   ]
  },
  {
   "cell_type": "code",
   "execution_count": 3,
   "metadata": {
    "id": "kNQNfLTKaDmF"
   },
   "outputs": [],
   "source": [
    "def sigmoid(x):\n",
    "    return (1/(1+np.exp(-x)))"
   ]
  },
  {
   "cell_type": "code",
   "execution_count": 4,
   "metadata": {
    "id": "11hEhtFKaVX8"
   },
   "outputs": [],
   "source": [
    "def relu(x):\n",
    "    return np.maximum(x, 0., None)"
   ]
  },
  {
   "cell_type": "code",
   "execution_count": 5,
   "metadata": {
    "colab": {
     "base_uri": "https://localhost:8080/",
     "height": 307
    },
    "id": "0OQ2pO_0aL11",
    "outputId": "7d2ddab4-be12-47f0-aead-395c9c1f0ccf"
   },
   "outputs": [
    {
     "data": {
      "image/png": "[encoded data removed]",
      "text/plain": [
       "<Figure size 600x300 with 2 Axes>"
      ]
     },
     "metadata": {
      "needs_background": "light"
     },
     "output_type": "display_data"
    }
   ],
   "source": [
    "fig,axes = plt.subplots(1,2,figsize=(6,3),dpi=100)\n",
    "x = np.linspace(-10,10,200)\n",
    "\n",
    "for ax in axes.flat:\n",
    "    ax.axhline(y=0, color='k')\n",
    "    ax.axvline(x=0, color='k')\n",
    "    #ax.grid(True)\n",
    "#axes[0].set_xlim([-10, 10])\n",
    "axes[0].plot(x, sigmoid(x), color ='#004c99')\n",
    "axes[0].patch.set_facecolor('white')\n",
    "axes[0].set_title('Sigmoid')\n",
    "axes[0].grid(True, color = '#A0A0A0')\n",
    "axes[0].patch.set_edgecolor('black')  \n",
    "\n",
    "axes[0].patch.set_linewidth('1.5') \n",
    "axes[1].plot(x, relu(x), color ='#004c99')\n",
    "axes[1].patch.set_facecolor('white')\n",
    "axes[1].grid(True, color = '#A0A0A0')\n",
    "#axes[1].set_xlim([-10, 10])\n",
    "axes[1].set_title('ReLU', color ='black')\n",
    "axes[1].patch.set_edgecolor('#000000')  \n",
    "\n",
    "axes[1].patch.set_linewidth('1.5')\n",
    "#plt.savefig('sig-vs-relu.png')\n",
    "plt.show()"
   ]
  },
  {
   "cell_type": "code",
   "execution_count": 6,
   "metadata": {
    "colab": {
     "base_uri": "https://localhost:8080/"
    },
    "id": "Lb7SYlYvY5kq",
    "outputId": "57623dfc-dcbe-4eae-99d1-1ea1222f59d4"
   },
   "outputs": [
    {
     "name": "stdout",
     "output_type": "stream",
     "text": [
      "<class 'pandas.core.frame.DataFrame'>\n",
      "RangeIndex: 284807 entries, 0 to 284806\n",
      "Data columns (total 31 columns):\n",
      "Time      284807 non-null float64\n",
      "V1        284807 non-null float64\n",
      "V2        284807 non-null float64\n",
      "V3        284807 non-null float64\n",
      "V4        284807 non-null float64\n",
      "V5        284807 non-null float64\n",
      "V6        284807 non-null float64\n",
      "V7        284807 non-null float64\n",
      "V8        284807 non-null float64\n",
      "V9        284807 non-null float64\n",
      "V10       284807 non-null float64\n",
      "V11       284807 non-null float64\n",
      "V12       284807 non-null float64\n",
      "V13       284807 non-null float64\n",
      "V14       284807 non-null float64\n",
      "V15       284807 non-null float64\n",
      "V16       284807 non-null float64\n",
      "V17       284807 non-null float64\n",
      "V18       284807 non-null float64\n",
      "V19       284807 non-null float64\n",
      "V20       284807 non-null float64\n",
      "V21       284807 non-null float64\n",
      "V22       284807 non-null float64\n",
      "V23       284807 non-null float64\n",
      "V24       284807 non-null float64\n",
      "V25       284807 non-null float64\n",
      "V26       284807 non-null float64\n",
      "V27       284807 non-null float64\n",
      "V28       284807 non-null float64\n",
      "Amount    284807 non-null float64\n",
      "Class     284807 non-null int64\n",
      "dtypes: float64(30), int64(1)\n",
      "memory usage: 67.4 MB\n"
     ]
    }
   ],
   "source": [
    "data.info()"
   ]
  },
  {
   "cell_type": "code",
   "execution_count": 7,
   "metadata": {
    "colab": {
     "base_uri": "https://localhost:8080/"
    },
    "id": "q3zb5YmVZ3AW",
    "outputId": "2b68c350-2b73-454b-9bf9-096971dfa6d0"
   },
   "outputs": [
    {
     "name": "stdout",
     "output_type": "stream",
     "text": [
      "Index(['Time', 'V1', 'V2', 'V3', 'V4', 'V5', 'V6', 'V7', 'V8', 'V9', 'V10',\n",
      "       'V11', 'V12', 'V13', 'V14', 'V15', 'V16', 'V17', 'V18', 'V19', 'V20',\n",
      "       'V21', 'V22', 'V23', 'V24', 'V25', 'V26', 'V27', 'V28', 'Amount',\n",
      "       'Class'],\n",
      "      dtype='object')\n"
     ]
    }
   ],
   "source": [
    "# Start exploring the dataset\n",
    "print(data.columns)"
   ]
  },
  {
   "cell_type": "code",
   "execution_count": 8,
   "metadata": {
    "colab": {
     "base_uri": "https://localhost:8080/"
    },
    "id": "0iH4ClnYaIc3",
    "outputId": "a3181bd7-f801-4e22-a498-a9149a600805"
   },
   "outputs": [
    {
     "name": "stdout",
     "output_type": "stream",
     "text": [
      "(28481, 31)\n",
      "                Time            V1            V2            V3            V4  \\\n",
      "count   28481.000000  28481.000000  28481.000000  28481.000000  28481.000000   \n",
      "mean    94705.035216     -0.001143     -0.018290      0.000795      0.000350   \n",
      "std     47584.727034      1.994661      1.709050      1.522313      1.420003   \n",
      "min         0.000000    -40.470142    -63.344698    -31.813586     -5.266509   \n",
      "25%     53924.000000     -0.908809     -0.610322     -0.892884     -0.847370   \n",
      "50%     84551.000000      0.031139      0.051775      0.178943     -0.017692   \n",
      "75%    139392.000000      1.320048      0.792685      1.035197      0.737312   \n",
      "max    172784.000000      2.411499     17.418649      4.069865     16.715537   \n",
      "\n",
      "                 V5            V6            V7            V8            V9  \\\n",
      "count  28481.000000  28481.000000  28481.000000  28481.000000  28481.000000   \n",
      "mean      -0.015666      0.003634     -0.008523     -0.003040      0.014536   \n",
      "std        1.395552      1.334985      1.237249      1.204102      1.098006   \n",
      "min      -42.147898    -19.996349    -22.291962    -33.785407     -8.739670   \n",
      "25%       -0.703986     -0.765807     -0.562033     -0.208445     -0.632488   \n",
      "50%       -0.068037     -0.269071      0.028378      0.024696     -0.037100   \n",
      "75%        0.603574      0.398839      0.559428      0.326057      0.621093   \n",
      "max       28.762671     22.529298     36.677268     19.587773      8.141560   \n",
      "\n",
      "       ...           V21           V22           V23           V24  \\\n",
      "count  ...  28481.000000  28481.000000  28481.000000  28481.000000   \n",
      "mean   ...      0.004740      0.006719     -0.000494     -0.002626   \n",
      "std    ...      0.744743      0.728209      0.645945      0.603968   \n",
      "min    ...    -16.640785    -10.933144    -30.269720     -2.752263   \n",
      "25%    ...     -0.224842     -0.535877     -0.163047     -0.360582   \n",
      "50%    ...     -0.029075      0.014337     -0.012678      0.038383   \n",
      "75%    ...      0.189068      0.533936      0.148065      0.434851   \n",
      "max    ...     22.588989      6.090514     15.626067      3.944520   \n",
      "\n",
      "                V25           V26           V27           V28        Amount  \\\n",
      "count  28481.000000  28481.000000  28481.000000  28481.000000  28481.000000   \n",
      "mean      -0.000917      0.004762     -0.001689     -0.004154     89.957884   \n",
      "std        0.520679      0.488171      0.418304      0.321646    270.894630   \n",
      "min       -7.025783     -2.534330     -8.260909     -9.617915      0.000000   \n",
      "25%       -0.319611     -0.328476     -0.071712     -0.053379      5.980000   \n",
      "50%        0.015231     -0.049750      0.000914      0.010753     22.350000   \n",
      "75%        0.351466      0.253580      0.090329      0.076267     78.930000   \n",
      "max        5.541598      3.118588     11.135740     15.373170  19656.530000   \n",
      "\n",
      "              Class  \n",
      "count  28481.000000  \n",
      "mean       0.001720  \n",
      "std        0.041443  \n",
      "min        0.000000  \n",
      "25%        0.000000  \n",
      "50%        0.000000  \n",
      "75%        0.000000  \n",
      "max        1.000000  \n",
      "\n",
      "[8 rows x 31 columns]\n"
     ]
    }
   ],
   "source": [
    "# Print the shape of the data\n",
    "data = data.sample(frac=0.1, random_state = 1)\n",
    "print(data.shape)\n",
    "print(data.describe())"
   ]
  },
  {
   "cell_type": "code",
   "execution_count": 9,
   "metadata": {
    "colab": {
     "base_uri": "https://localhost:8080/",
     "height": 1000
    },
    "id": "YbGlu5mYaPBJ",
    "outputId": "124bc74e-ac35-47ab-be58-ed83521df46d"
   },
   "outputs": [
    {
     "data": {
      "image/png": "[encoded data removed]",
      "text/plain": [
       "<Figure size 1440x1440 with 36 Axes>"
      ]
     },
     "metadata": {
      "needs_background": "light"
     },
     "output_type": "display_data"
    }
   ],
   "source": [
    "# Plot histograms of each parameter \n",
    "data.hist(figsize = (20, 20))\n",
    "plt.show()"
   ]
  },
  {
   "cell_type": "markdown",
   "metadata": {
    "id": "Th6-xHIrHOvZ"
   },
   "source": [
    "# ***Feature Extraction***"
   ]
  },
  {
   "cell_type": "code",
   "execution_count": 10,
   "metadata": {
    "colab": {
     "base_uri": "https://localhost:8080/",
     "height": 407
    },
    "id": "txLY4DxJp5P0",
    "outputId": "41fddffc-ca66-4d35-8eca-26d594360a82"
   },
   "outputs": [
    {
     "data": {
      "image/png": "[encoded data removed]",
      "text/plain": [
       "<Figure size 1080x432 with 2 Axes>"
      ]
     },
     "metadata": {
      "needs_background": "light"
     },
     "output_type": "display_data"
    }
   ],
   "source": [
    "f, (ax1, ax2) = plt.subplots(1, 2, figsize=(15, 6))\n",
    "ax1 = sns.distplot(data['Time'], ax=ax1, color='#008B8B')\n",
    "ax2 = sns.distplot(data['Amount'], ax=ax2, color='#DC143C')\n",
    "ax1.set_title('Distribution of Time', fontsize=13)\n",
    "ax2.set_title('Distribution of Amount', fontsize=13)\n",
    "ax1.patch.set_facecolor('white')\n",
    "ax1.grid(True, color = '#E0E0E0')\n",
    "ax1.patch.set_edgecolor('black')  \n",
    "ax1.patch.set_linewidth('1.5') \n",
    "ax2.patch.set_facecolor('white')\n",
    "ax2.grid(True, color = '#E0E0E0')\n",
    "ax2.patch.set_edgecolor('black')  \n",
    "ax2.patch.set_linewidth('1.5') "
   ]
  },
  {
   "cell_type": "code",
   "execution_count": 11,
   "metadata": {
    "colab": {
     "base_uri": "https://localhost:8080/",
     "height": 299
    },
    "id": "UK8xRTB61S-v",
    "outputId": "717a96ed-7888-414e-88c0-58c4ba8d15ae"
   },
   "outputs": [
    {
     "data": {
      "text/html": [
       "<div>\n",
       "<style scoped>\n",
       "    .dataframe tbody tr th:only-of-type {\n",
       "        vertical-align: middle;\n",
       "    }\n",
       "\n",
       "    .dataframe tbody tr th {\n",
       "        vertical-align: top;\n",
       "    }\n",
       "\n",
       "    .dataframe thead th {\n",
       "        text-align: right;\n",
       "    }\n",
       "</style>\n",
       "<table border=\"1\" class=\"dataframe\">\n",
       "  <thead>\n",
       "    <tr style=\"text-align: right;\">\n",
       "      <th></th>\n",
       "      <th>V1</th>\n",
       "      <th>V2</th>\n",
       "      <th>V3</th>\n",
       "      <th>V4</th>\n",
       "      <th>V5</th>\n",
       "      <th>V6</th>\n",
       "      <th>V7</th>\n",
       "      <th>V8</th>\n",
       "      <th>V9</th>\n",
       "      <th>V10</th>\n",
       "      <th>...</th>\n",
       "      <th>V23</th>\n",
       "      <th>V24</th>\n",
       "      <th>V25</th>\n",
       "      <th>V26</th>\n",
       "      <th>V27</th>\n",
       "      <th>V28</th>\n",
       "      <th>Amount</th>\n",
       "      <th>Class</th>\n",
       "      <th>hour</th>\n",
       "      <th>second</th>\n",
       "    </tr>\n",
       "  </thead>\n",
       "  <tbody>\n",
       "    <tr>\n",
       "      <td>169876</td>\n",
       "      <td>-0.611712</td>\n",
       "      <td>-0.769705</td>\n",
       "      <td>-0.149759</td>\n",
       "      <td>-0.224877</td>\n",
       "      <td>2.028577</td>\n",
       "      <td>-2.019887</td>\n",
       "      <td>0.292491</td>\n",
       "      <td>-0.523020</td>\n",
       "      <td>0.358468</td>\n",
       "      <td>0.070050</td>\n",
       "      <td>...</td>\n",
       "      <td>0.380739</td>\n",
       "      <td>0.023440</td>\n",
       "      <td>-2.220686</td>\n",
       "      <td>-0.201146</td>\n",
       "      <td>0.066501</td>\n",
       "      <td>0.221180</td>\n",
       "      <td>1.79</td>\n",
       "      <td>0</td>\n",
       "      <td>16</td>\n",
       "      <td>1107</td>\n",
       "    </tr>\n",
       "    <tr>\n",
       "      <td>127467</td>\n",
       "      <td>-0.814682</td>\n",
       "      <td>1.319219</td>\n",
       "      <td>1.329415</td>\n",
       "      <td>0.027273</td>\n",
       "      <td>-0.284871</td>\n",
       "      <td>-0.653985</td>\n",
       "      <td>0.321552</td>\n",
       "      <td>0.435975</td>\n",
       "      <td>-0.704298</td>\n",
       "      <td>-0.600684</td>\n",
       "      <td>...</td>\n",
       "      <td>0.090660</td>\n",
       "      <td>0.401147</td>\n",
       "      <td>-0.261034</td>\n",
       "      <td>0.080621</td>\n",
       "      <td>0.162427</td>\n",
       "      <td>0.059456</td>\n",
       "      <td>1.98</td>\n",
       "      <td>0</td>\n",
       "      <td>10</td>\n",
       "      <td>2740</td>\n",
       "    </tr>\n",
       "    <tr>\n",
       "      <td>137900</td>\n",
       "      <td>-0.318193</td>\n",
       "      <td>1.118618</td>\n",
       "      <td>0.969864</td>\n",
       "      <td>-0.127052</td>\n",
       "      <td>0.569563</td>\n",
       "      <td>-0.532484</td>\n",
       "      <td>0.706252</td>\n",
       "      <td>-0.064966</td>\n",
       "      <td>-0.463271</td>\n",
       "      <td>-0.528357</td>\n",
       "      <td>...</td>\n",
       "      <td>-0.123884</td>\n",
       "      <td>-0.495687</td>\n",
       "      <td>-0.018148</td>\n",
       "      <td>0.121679</td>\n",
       "      <td>0.249050</td>\n",
       "      <td>0.092516</td>\n",
       "      <td>0.89</td>\n",
       "      <td>0</td>\n",
       "      <td>11</td>\n",
       "      <td>3182</td>\n",
       "    </tr>\n",
       "    <tr>\n",
       "      <td>21513</td>\n",
       "      <td>-1.328271</td>\n",
       "      <td>1.018378</td>\n",
       "      <td>1.775426</td>\n",
       "      <td>-1.574193</td>\n",
       "      <td>-0.117696</td>\n",
       "      <td>-0.457733</td>\n",
       "      <td>0.681867</td>\n",
       "      <td>-0.031641</td>\n",
       "      <td>0.383872</td>\n",
       "      <td>0.334853</td>\n",
       "      <td>...</td>\n",
       "      <td>-0.239197</td>\n",
       "      <td>0.009967</td>\n",
       "      <td>0.232829</td>\n",
       "      <td>0.814177</td>\n",
       "      <td>0.098797</td>\n",
       "      <td>-0.004273</td>\n",
       "      <td>15.98</td>\n",
       "      <td>0</td>\n",
       "      <td>4</td>\n",
       "      <td>2917</td>\n",
       "    </tr>\n",
       "    <tr>\n",
       "      <td>134700</td>\n",
       "      <td>1.276712</td>\n",
       "      <td>0.617120</td>\n",
       "      <td>-0.578014</td>\n",
       "      <td>0.879173</td>\n",
       "      <td>0.061706</td>\n",
       "      <td>-1.472002</td>\n",
       "      <td>0.373692</td>\n",
       "      <td>-0.287204</td>\n",
       "      <td>-0.084482</td>\n",
       "      <td>-0.696578</td>\n",
       "      <td>...</td>\n",
       "      <td>-0.076738</td>\n",
       "      <td>0.258708</td>\n",
       "      <td>0.552170</td>\n",
       "      <td>0.370701</td>\n",
       "      <td>-0.034255</td>\n",
       "      <td>0.041709</td>\n",
       "      <td>0.76</td>\n",
       "      <td>0</td>\n",
       "      <td>11</td>\n",
       "      <td>1723</td>\n",
       "    </tr>\n",
       "  </tbody>\n",
       "</table>\n",
       "<p>5 rows × 32 columns</p>\n",
       "</div>"
      ],
      "text/plain": [
       "              V1        V2        V3        V4        V5        V6        V7  \\\n",
       "169876 -0.611712 -0.769705 -0.149759 -0.224877  2.028577 -2.019887  0.292491   \n",
       "127467 -0.814682  1.319219  1.329415  0.027273 -0.284871 -0.653985  0.321552   \n",
       "137900 -0.318193  1.118618  0.969864 -0.127052  0.569563 -0.532484  0.706252   \n",
       "21513  -1.328271  1.018378  1.775426 -1.574193 -0.117696 -0.457733  0.681867   \n",
       "134700  1.276712  0.617120 -0.578014  0.879173  0.061706 -1.472002  0.373692   \n",
       "\n",
       "              V8        V9       V10  ...       V23       V24       V25  \\\n",
       "169876 -0.523020  0.358468  0.070050  ...  0.380739  0.023440 -2.220686   \n",
       "127467  0.435975 -0.704298 -0.600684  ...  0.090660  0.401147 -0.261034   \n",
       "137900 -0.064966 -0.463271 -0.528357  ... -0.123884 -0.495687 -0.018148   \n",
       "21513  -0.031641  0.383872  0.334853  ... -0.239197  0.009967  0.232829   \n",
       "134700 -0.287204 -0.084482 -0.696578  ... -0.076738  0.258708  0.552170   \n",
       "\n",
       "             V26       V27       V28  Amount  Class  hour  second  \n",
       "169876 -0.201146  0.066501  0.221180    1.79      0    16    1107  \n",
       "127467  0.080621  0.162427  0.059456    1.98      0    10    2740  \n",
       "137900  0.121679  0.249050  0.092516    0.89      0    11    3182  \n",
       "21513   0.814177  0.098797 -0.004273   15.98      0     4    2917  \n",
       "134700  0.370701 -0.034255  0.041709    0.76      0    11    1723  \n",
       "\n",
       "[5 rows x 32 columns]"
      ]
     },
     "execution_count": 11,
     "metadata": {},
     "output_type": "execute_result"
    }
   ],
   "source": [
    "#data['day']=(data['Time']//86400).astype('int')\n",
    "data['hour']=((data['Time']//3600)//2.).astype('int')\n",
    "#data['minute']=((data['Time']%3600.)//60).astype('int')\n",
    "#data['second']=((data['Time']%3600)%60).astype('int')\n",
    "data['second']=(data['Time']%3600).astype('int')\n",
    "data.drop('Time',axis=1,inplace=True)\n",
    "data.head(5)"
   ]
  },
  {
   "cell_type": "markdown",
   "metadata": {
    "id": "wN1KcHcHte6h"
   },
   "source": [
    "# ***Removing duplicate data***"
   ]
  },
  {
   "cell_type": "code",
   "execution_count": 12,
   "metadata": {
    "colab": {
     "base_uri": "https://localhost:8080/"
    },
    "id": "Ld6leU74FeII",
    "outputId": "4c31cb70-7b29-4a7a-b7fc-f483933f3e9e"
   },
   "outputs": [
    {
     "name": "stdout",
     "output_type": "stream",
     "text": [
      "Duplicate vs Non duplicate counts :\n",
      "False    28464\n",
      "True        17\n",
      "dtype: int64\n"
     ]
    }
   ],
   "source": [
    "print(\"Duplicate vs Non duplicate counts :\")\n",
    "print(data.duplicated().value_counts())"
   ]
  },
  {
   "cell_type": "code",
   "execution_count": 13,
   "metadata": {
    "id": "p66pZs8nFy7g"
   },
   "outputs": [],
   "source": [
    "# Removing the Duplicate Values\n",
    "data.drop_duplicates(inplace = True)"
   ]
  },
  {
   "cell_type": "code",
   "execution_count": 14,
   "metadata": {
    "colab": {
     "base_uri": "https://localhost:8080/"
    },
    "id": "9C102275a5n0",
    "outputId": "07cc8ed3-ccf7-4aa5-9faf-8eceb63f11e8"
   },
   "outputs": [
    {
     "name": "stdout",
     "output_type": "stream",
     "text": [
      "False    28464\n",
      "dtype: int64\n"
     ]
    }
   ],
   "source": [
    "# Check for duplicate data if they exist \n",
    "print(data.duplicated().value_counts())\n",
    "\n",
    "# Reset the index\n",
    "data.reset_index(drop = True , inplace = True)"
   ]
  },
  {
   "cell_type": "code",
   "execution_count": 15,
   "metadata": {
    "colab": {
     "base_uri": "https://localhost:8080/"
    },
    "id": "NcpKUF8tGP6Z",
    "outputId": "85e935ba-3221-49e8-d35d-9bf98e75edda"
   },
   "outputs": [
    {
     "name": "stdout",
     "output_type": "stream",
     "text": [
      "0    28415\n",
      "1       49\n",
      "Name: Class, dtype: int64\n",
      "\n",
      "\n",
      "0    0.998279\n",
      "1    0.001721\n",
      "Name: Class, dtype: float64\n"
     ]
    }
   ],
   "source": [
    "print(data['Class'].value_counts())\n",
    "print('\\n')\n",
    "print(data['Class'].value_counts(normalize=True))"
   ]
  },
  {
   "cell_type": "code",
   "execution_count": 16,
   "metadata": {
    "colab": {
     "base_uri": "https://localhost:8080/"
    },
    "id": "BWdOgvHkW9qN",
    "outputId": "b1435bc5-a3ee-425c-cb2a-5b1adbf00388"
   },
   "outputs": [
    {
     "name": "stdout",
     "output_type": "stream",
     "text": [
      "Fradulent transactions (Label 1)     : 0.0017 % (49)\n",
      "Genioun transactions (Label 0) : 0.9983 % (28415)\n"
     ]
    }
   ],
   "source": [
    "classes=data['Class'].value_counts()\n",
    "Valid=round(classes[0]/data['Class'].count(), 4)\n",
    "Fraud=round(classes[1]/data['Class'].count(), 4)\n",
    "\n",
    "print('Fradulent transactions (Label 1)     : {0} % ({1})'.format(Fraud, classes[1]))\n",
    "print('Genioun transactions (Label 0) : {0} % ({1})'.format(Valid, classes[0]))"
   ]
  },
  {
   "cell_type": "code",
   "execution_count": 17,
   "metadata": {
    "colab": {
     "base_uri": "https://localhost:8080/",
     "height": 300
    },
    "id": "EADOB7wg7-nI",
    "outputId": "34ad3f0b-6550-46ff-90f0-8dad542501da"
   },
   "outputs": [
    {
     "data": {
      "text/plain": [
       "[Text(0, 0, '0'), Text(0, 0, '1')]"
      ]
     },
     "execution_count": 17,
     "metadata": {},
     "output_type": "execute_result"
    },
    {
     "data": {
      "image/png": "[encoded data removed]",
      "text/plain": [
       "<Figure size 576x288 with 1 Axes>"
      ]
     },
     "metadata": {
      "needs_background": "light"
     },
     "output_type": "display_data"
    }
   ],
   "source": [
    "# Create plots for the number and percentage of fraudulent vs Valid transcations\n",
    "plt.figure(figsize=(8,4))\n",
    "plt.subplot(121)\n",
    "#colors = ['#008080','crimson']\n",
    "#colors = ['crimson','#008080']\n",
    "colors = ['#008080','#CC0000']\n",
    "Class = data[\"Class\"]\n",
    "total = len(Class)*1.\n",
    "ax=sns.countplot(x=\"Class\", data=data, palette=colors)\n",
    "\n",
    "for p in ax.patches:\n",
    "  ax.annotate('{:.2f}%'.format(100*p.get_height()/total), (p.get_x()+0.1, p.get_height()+5))\n",
    "  ax.patch.set_facecolor('white')\n",
    "  ax.yaxis.grid(True, color = '#C0C0C0') \n",
    "  ax.patch.set_edgecolor('#A0A0A0')  \n",
    "  ax.patch.set_linewidth('1.5')\n",
    "#put 11 ticks (therefore 10 steps), from 0 to the total number of rows in the dataframe\n",
    "ax.yaxis.set_ticks(np.linspace(0, total, 11))\n",
    "#adjust the ticklabel to the desired format, without changing the position of the ticks.\n",
    "ax.set_yticklabels(map('{:.0f}%'.format, 100*ax.yaxis.get_majorticklocs()/total))\n",
    "ax.set_xticklabels(ax.get_xticklabels(), ha=\"right\")\n",
    "\n",
    "\n"
   ]
  },
  {
   "cell_type": "code",
   "execution_count": 18,
   "metadata": {
    "colab": {
     "base_uri": "https://localhost:8080/",
     "height": 285
    },
    "id": "2-kQPNOt-gtk",
    "outputId": "944607f7-5237-454d-e1de-13a7440deece"
   },
   "outputs": [
    {
     "data": {
      "image/png": "[encoded data removed]",
      "text/plain": [
       "<Figure size 720x360 with 1 Axes>"
      ]
     },
     "metadata": {},
     "output_type": "display_data"
    }
   ],
   "source": [
    "# Create plots for the number and percentage of fraudulent vs Valid transcations\n",
    "plt.figure(figsize=(10,5))\n",
    "\n",
    "plt.subplot(122)\n",
    "#plt.title('Percentage of each Class', fontsize=14)\n",
    "plt.pie(x=[Valid,Fraud],labels=['Valid','Fraud'],\n",
    "        autopct='%.2f', colors=['#008080','crimson'], startangle=30, shadow=True)\n",
    "plt.legend(loc='best')\n",
    "\n",
    "plt.show()"
   ]
  },
  {
   "cell_type": "markdown",
   "metadata": {
    "id": "NXj3NEalHIla"
   },
   "source": [
    "# X,Y"
   ]
  },
  {
   "cell_type": "code",
   "execution_count": 19,
   "metadata": {
    "id": "Fw22AJHcFzV1"
   },
   "outputs": [],
   "source": [
    "df = pd.DataFrame(data, columns=['V10' ,'V11' ,'V12' ,'V14' ,'V16' ,'V17', 'Class'])"
   ]
  },
  {
   "cell_type": "code",
   "execution_count": 20,
   "metadata": {
    "id": "PA1d7HVRF0Dt"
   },
   "outputs": [],
   "source": [
    "X = df.drop('Class', axis=1)\n",
    "y = df['Class']"
   ]
  },
  {
   "cell_type": "markdown",
   "metadata": {
    "id": "A1yyBkafEfog"
   },
   "source": [
    "# ***Feature Selection***"
   ]
  },
  {
   "cell_type": "code",
   "execution_count": 21,
   "metadata": {
    "id": "cO2bCY_CEfoi"
   },
   "outputs": [],
   "source": [
    "X = data.drop('Class', axis=1)\n",
    "y = data['Class']"
   ]
  },
  {
   "cell_type": "code",
   "execution_count": 22,
   "metadata": {
    "colab": {
     "base_uri": "https://localhost:8080/",
     "height": 878
    },
    "id": "O3OfIjcZonjh",
    "outputId": "03d1a47a-885a-4556-c9d0-6a17267dce4a"
   },
   "outputs": [
    {
     "name": "stdout",
     "output_type": "stream",
     "text": [
      "Feature 0 : 0.0015\n",
      "Feature 1 : 0.0025\n",
      "Feature 2 : 0.004\n",
      "Feature 3 : 0.0045\n",
      "Feature 4 : 0.0016\n",
      "Feature 5 : 0.0024\n",
      "Feature 6 : 0.0037\n",
      "Feature 7 : 0.0012\n",
      "Feature 8 : 0.0035\n",
      "Feature 9 : 0.0067\n",
      "Feature 10 : 0.0066\n",
      "Feature 11 : 0.0075\n",
      "Feature 12 : 0.0\n",
      "Feature 13 : 0.0084\n",
      "Feature 14 : 0.0\n",
      "Feature 15 : 0.0056\n",
      "Feature 16 : 0.0073\n",
      "Feature 17 : 0.0039\n",
      "Feature 18 : 0.0008\n",
      "Feature 19 : 0.0004\n",
      "Feature 20 : 0.0024\n",
      "Feature 21 : 0.0\n",
      "Feature 22 : 0.0004\n",
      "Feature 23 : 0.0002\n",
      "Feature 24 : 0.0002\n",
      "Feature 25 : 0.0\n",
      "Feature 26 : 0.0015\n",
      "Feature 27 : 0.0018\n",
      "Feature 28 : 0.0013\n",
      "Feature 29 : 0.0004\n",
      "Feature 30 : 0.0002\n"
     ]
    },
    {
     "data": {
      "image/png": "[encoded data removed]",
      "text/plain": [
       "<Figure size 432x288 with 1 Axes>"
      ]
     },
     "metadata": {
      "needs_background": "light"
     },
     "output_type": "display_data"
    }
   ],
   "source": [
    "X_train, X_test, y_train, y_test = train_test_split(X, y, random_state=42, test_size=.20)\n",
    "rob_scaler = RobustScaler()\n",
    "X_test = rob_scaler.fit_transform(X_test)\n",
    "X_test = rob_scaler.fit_transform(X_test)\n",
    "\n",
    "from sklearn.feature_selection import SelectKBest,f_classif,mutual_info_classif\n",
    "infogain_classif = SelectKBest(score_func=mutual_info_classif, k=6)\n",
    "infogain_classif.fit(X_train, y_train)\n",
    "#colors = ['crimson','#008080']\n",
    "# what are scores for the features\n",
    "for i in range(len(infogain_classif.scores_)):\n",
    "    print(f'Feature {i} : {round(infogain_classif.scores_[i],4)}')\n",
    "\n",
    "# plot the scores\n",
    "plt.bar([X_train.columns[i] for i in range(len(infogain_classif.scores_))], infogain_classif.scores_ ,color=['green'])\n",
    "plt.xticks(rotation=90)\n",
    "plt.rcParams[\"figure.figsize\"] = (8,7)\n",
    "#plt.title('Feature Selection', fontsize=14)\n",
    "ax = plt.gca()\n",
    "ax.patch.set_facecolor('white')\n",
    "ax.yaxis.grid(True, color = '#C0C0C0') \n",
    "ax.patch.set_edgecolor('#A0A0A0')  \n",
    "ax.patch.set_linewidth('1.5')\n",
    "plt.xlabel('Features',fontsize=14)\n",
    "plt.ylabel('Information Gain',fontsize=14)\n",
    "plt.show()"
   ]
  },
  {
   "cell_type": "code",
   "execution_count": 23,
   "metadata": {
    "colab": {
     "base_uri": "https://localhost:8080/"
    },
    "id": "T4G2zsFaEfon",
    "outputId": "27838e04-47f7-40c2-dd00-113a56fe514b"
   },
   "outputs": [
    {
     "name": "stdout",
     "output_type": "stream",
     "text": [
      "Best Features : ['V10' 'V11' 'V12' 'V14' 'V16' 'V17']\n",
      "Bad Features : ['V1' 'V2' 'V3' 'V4' 'V5' 'V6' 'V7' 'V8' 'V9' 'V13' 'V15' 'V18' 'V19'\n",
      " 'V20' 'V21' 'V22' 'V23' 'V24' 'V25' 'V26' 'V27' 'V28' 'Amount' 'hour'\n",
      " 'second']\n"
     ]
    }
   ],
   "source": [
    "#set of best features set\n",
    "mask=infogain_classif.get_support()\n",
    "not_mask=np.logical_not(mask)\n",
    "\n",
    "all_features=np.array(list(X))\n",
    "\n",
    "best_features=all_features[mask]\n",
    "bad_features=all_features[~mask]#not_mask\n",
    "print('Best Features :',best_features)\n",
    "print('Bad Features :',bad_features)"
   ]
  },
  {
   "cell_type": "code",
   "execution_count": 24,
   "metadata": {
    "id": "D7xS9l1xEfop"
   },
   "outputs": [],
   "source": [
    "df = pd.DataFrame(data, columns=['V10' ,'V11' ,'V12' ,'V14' ,'V16' ,'V17', 'Class'])"
   ]
  },
  {
   "cell_type": "code",
   "execution_count": 25,
   "metadata": {},
   "outputs": [],
   "source": [
    "df.to_csv('processed.csv')"
   ]
  },
  {
   "cell_type": "code",
   "execution_count": 26,
   "metadata": {
    "id": "HeeQezEBEfoq"
   },
   "outputs": [],
   "source": [
    "X = df.drop('Class', axis=1)\n",
    "y = df['Class']"
   ]
  },
  {
   "cell_type": "markdown",
   "metadata": {
    "id": "rm6JC2uMTyfm"
   },
   "source": [
    "# Train and Test "
   ]
  },
  {
   "cell_type": "code",
   "execution_count": 27,
   "metadata": {
    "colab": {
     "base_uri": "https://localhost:8080/"
    },
    "id": "XecohwkbTyfn",
    "outputId": "d7aa4150-2151-4d3e-8830-d806acb84b56"
   },
   "outputs": [
    {
     "name": "stdout",
     "output_type": "stream",
     "text": [
      "Train Shape: (22771, 7) \n",
      "Test Shape: (5693, 7)\n"
     ]
    }
   ],
   "source": [
    "train, test = train_test_split(df, test_size = 0.2, random_state=42)\n",
    "#train, test = train_test_split(df, test_size = 0.2, shuffle=True, stratify=df['Class'])\n",
    "print(\"Train Shape: {} \\nTest Shape: {}\".format(train.shape, test.shape))"
   ]
  },
  {
   "cell_type": "code",
   "execution_count": 28,
   "metadata": {
    "colab": {
     "base_uri": "https://localhost:8080/"
    },
    "id": "0wnoNCyuTyfp",
    "outputId": "87006062-f771-4f5c-96e3-c71073e240a8"
   },
   "outputs": [
    {
     "name": "stdout",
     "output_type": "stream",
     "text": [
      "before sampling: \n",
      "X_train  shape: (22771, 6) \n",
      "y_train shape: (22771,)\n"
     ]
    }
   ],
   "source": [
    "X_train  = train.drop('Class', axis=1).values\n",
    "y_train  = train['Class'].values\n",
    "print('before sampling: \\nX_train  shape: {} \\ny_train shape: {}'.format(X_train.shape, y_train.shape))"
   ]
  },
  {
   "cell_type": "code",
   "execution_count": 29,
   "metadata": {
    "colab": {
     "base_uri": "https://localhost:8080/"
    },
    "id": "AzOZTgZYTyfr",
    "outputId": "5acaf7c5-19e6-4656-812d-ac174176eef1"
   },
   "outputs": [
    {
     "name": "stdout",
     "output_type": "stream",
     "text": [
      "\n",
      "X_test  shape: (5693, 6) \n",
      "y_test shape: (5693,)\n"
     ]
    }
   ],
   "source": [
    "X_test  = test.drop('Class', axis=1)\n",
    "y_test  = test['Class']\n",
    "print('\\nX_test  shape: {} \\ny_test shape: {}'.format(X_test.shape, y_test.shape))"
   ]
  },
  {
   "cell_type": "code",
   "execution_count": 30,
   "metadata": {
    "id": "czFVkF98Tyfs"
   },
   "outputs": [],
   "source": [
    "X_test  = test\n",
    "y_test  = test['Class']"
   ]
  },
  {
   "cell_type": "code",
   "execution_count": 31,
   "metadata": {
    "id": "vKPqWNDxTyft"
   },
   "outputs": [],
   "source": [
    "X_test_Fraud = X_test[X_test.Class==1]\n",
    "X_test_Valid = X_test[X_test.Class==0]\n",
    "y_test_Fraud = y_test[X_test.Class==1]\n",
    "y_test_Valid = y_test[X_test.Class==0] \n",
    "\n",
    "X_test = X_test.drop('Class', axis=1).values\n",
    "y_test = y_test.values  \n",
    "\n",
    "X_test_Valid =X_test_Valid.drop('Class', axis=1).values\n",
    "y_test_Valid = y_test_Valid.values\n",
    "\n",
    "X_test_Fraud = X_test_Fraud.drop('Class', axis=1).values\n",
    "y_test_Fraud = y_test_Fraud.values  "
   ]
  },
  {
   "cell_type": "code",
   "execution_count": 32,
   "metadata": {
    "colab": {
     "base_uri": "https://localhost:8080/"
    },
    "id": "VLk-plmETyft",
    "outputId": "fce69c29-8c5f-41b5-e14f-0ddbeff7a4d9"
   },
   "outputs": [
    {
     "name": "stdout",
     "output_type": "stream",
     "text": [
      "X_test  shape: (5693, 6) \n",
      "y_test shape: (5693,)\n",
      "X_test_Fraud  shape: (10, 6) \n",
      "y_test_Fraud shape: (10,)\n",
      "X_test_Valid  shape: (5683, 6) \n",
      "y_test_Valid shape: (5683,)\n"
     ]
    }
   ],
   "source": [
    "print('X_test  shape: {} \\ny_test shape: {}'.format(X_test.shape, y_test.shape))\n",
    "print('X_test_Fraud  shape: {} \\ny_test_Fraud shape: {}'.format(X_test_Fraud.shape, y_test_Fraud.shape))\n",
    "print('X_test_Valid  shape: {} \\ny_test_Valid shape: {}'.format(X_test_Valid.shape, y_test_Valid.shape))"
   ]
  },
  {
   "cell_type": "markdown",
   "metadata": {
    "id": "MQjSODMi_K_v"
   },
   "source": [
    "# ***Bayesian Optimization***"
   ]
  },
  {
   "cell_type": "markdown",
   "metadata": {
    "id": "SjcjNg6I_YxJ"
   },
   "source": [
    "##*LGBM*"
   ]
  },
  {
   "cell_type": "code",
   "execution_count": 33,
   "metadata": {
    "colab": {
     "base_uri": "https://localhost:8080/"
    },
    "id": "umayBnEwgxr1",
    "outputId": "1f02ac76-e1a5-4005-b390-7576edb2dbc2"
   },
   "outputs": [
    {
     "name": "stdout",
     "output_type": "stream",
     "text": [
      "|   iter    |  target   | learni... | max_depth | num_le... |\n",
      "-------------------------------------------------------------\n",
      "| \u001b[0m 1       \u001b[0m | \u001b[0m-0.006524\u001b[0m | \u001b[0m 0.1618  \u001b[0m | \u001b[0m-0.2999  \u001b[0m | \u001b[0m 196.2   \u001b[0m |\n",
      "| \u001b[0m 2       \u001b[0m | \u001b[0m-0.007065\u001b[0m | \u001b[0m 0.1932  \u001b[0m | \u001b[0m 0.1964  \u001b[0m | \u001b[0m 223.0   \u001b[0m |\n",
      "| \u001b[95m 3       \u001b[0m | \u001b[95m-0.005385\u001b[0m | \u001b[95m 0.09813 \u001b[0m | \u001b[95m 3.996   \u001b[0m | \u001b[95m 241.6   \u001b[0m |\n",
      "| \u001b[0m 4       \u001b[0m | \u001b[0m-0.1185  \u001b[0m | \u001b[0m 0.05199 \u001b[0m | \u001b[0m 0.9611  \u001b[0m | \u001b[0m 130.0   \u001b[0m |\n",
      "| \u001b[0m 5       \u001b[0m | \u001b[0m-0.1833  \u001b[0m | \u001b[0m 0.01685 \u001b[0m | \u001b[0m 2.45    \u001b[0m | \u001b[0m 203.4   \u001b[0m |\n",
      "| \u001b[0m 6       \u001b[0m | \u001b[0m-0.005756\u001b[0m | \u001b[0m 0.1162  \u001b[0m | \u001b[0m 0.2471  \u001b[0m | \u001b[0m 222.9   \u001b[0m |\n",
      "| \u001b[0m 7       \u001b[0m | \u001b[0m-0.007117\u001b[0m | \u001b[0m 0.2     \u001b[0m | \u001b[0m-1.0     \u001b[0m | \u001b[0m 193.0   \u001b[0m |\n",
      "| \u001b[0m 8       \u001b[0m | \u001b[0m-0.6092  \u001b[0m | \u001b[0m 0.001   \u001b[0m | \u001b[0m 3.648   \u001b[0m | \u001b[0m 220.7   \u001b[0m |\n",
      "| \u001b[0m 9       \u001b[0m | \u001b[0m-0.0863  \u001b[0m | \u001b[0m 0.106   \u001b[0m | \u001b[0m 0.5362  \u001b[0m | \u001b[0m 194.3   \u001b[0m |\n",
      "| \u001b[0m 10      \u001b[0m | \u001b[0m-0.007117\u001b[0m | \u001b[0m 0.2     \u001b[0m | \u001b[0m-1.0     \u001b[0m | \u001b[0m 198.2   \u001b[0m |\n",
      "| \u001b[0m 11      \u001b[0m | \u001b[0m-0.06533 \u001b[0m | \u001b[0m 0.169   \u001b[0m | \u001b[0m 1.489   \u001b[0m | \u001b[0m 241.7   \u001b[0m |\n",
      "| \u001b[0m 12      \u001b[0m | \u001b[0m-0.02239 \u001b[0m | \u001b[0m 0.03359 \u001b[0m | \u001b[0m-0.9247  \u001b[0m | \u001b[0m 222.1   \u001b[0m |\n",
      "| \u001b[0m 13      \u001b[0m | \u001b[0m-0.006681\u001b[0m | \u001b[0m 0.189   \u001b[0m | \u001b[0m 5.642   \u001b[0m | \u001b[0m 239.5   \u001b[0m |\n",
      "=============================================================\n",
      "It takes 0.13239063819249472 minutes\n",
      "{'learning_rate': 0.09813425312764017, 'max_depth': 4, 'num_leaves': 242}\n"
     ]
    }
   ],
   "source": [
    "# create purpose function\n",
    "def lgbm_cv(learning_rate, max_depth, num_leaves):\n",
    "    model = LGBMClassifier(learning_rate = learning_rate,\n",
    "                                num_leaves = int(round(num_leaves)),\n",
    "                                max_depth = int(round(max_depth)), \n",
    "                                class_weight = 'balanced'\n",
    "                               )\n",
    "    \n",
    "    cv = StratifiedKFold(n_splits=5)\n",
    "    scores = cross_validate(model, X_train, y_train, cv=cv, scoring= 'neg_log_loss')\n",
    "    return np.mean(scores['test_score'])\n",
    "\n",
    "# Interval to be explored for input values\n",
    "params = {'learning_rate': (0.001, 0.2),\n",
    "           'max_depth': (-1, 8),\n",
    "           'num_leaves': (2, 250)\n",
    "          }\n",
    "\n",
    "from bayes_opt import BayesianOptimization\n",
    "lgbmBO = BayesianOptimization(lgbm_cv, params)\n",
    "\n",
    "start = time.time()\n",
    "lgbmBO.maximize(init_points=5, n_iter = 8, acq='ei')\n",
    "\n",
    "print('It takes %s minutes' % ((time.time() - start)/60))\n",
    "params_lgbm = lgbmBO.max['params']\n",
    "params_lgbm['max_depth'] = round(params_lgbm['max_depth'])\n",
    "params_lgbm['num_leaves'] = round(params_lgbm['num_leaves'])\n",
    "print(params_lgbm)"
   ]
  },
  {
   "cell_type": "markdown",
   "metadata": {
    "id": "41TUGwtt_noC"
   },
   "source": [
    "##*XGBoost*"
   ]
  },
  {
   "cell_type": "code",
   "execution_count": 34,
   "metadata": {
    "colab": {
     "base_uri": "https://localhost:8080/"
    },
    "id": "absTm8quCuwM",
    "outputId": "5dc7e4d9-370c-4229-ba54-0a82b1b4a4e6"
   },
   "outputs": [
    {
     "name": "stdout",
     "output_type": "stream",
     "text": [
      "Estimate: 579.898\n"
     ]
    }
   ],
   "source": [
    "# estimate a value for the scale_pos_weight xgboost hyperparameter\n",
    "from sklearn.datasets import make_classification\n",
    "from collections import Counter\n",
    "counter = Counter(y)\n",
    "# estimate scale_pos_weight value\n",
    "estimate = counter[0] / counter[1]\n",
    "print('Estimate: %.3f' % estimate)"
   ]
  },
  {
   "cell_type": "code",
   "execution_count": 35,
   "metadata": {
    "colab": {
     "base_uri": "https://localhost:8080/"
    },
    "id": "RorlQTAzGmNa",
    "outputId": "efb0af0d-25e5-4ad9-f684-51d3fea8cd3f"
   },
   "outputs": [
    {
     "name": "stdout",
     "output_type": "stream",
     "text": [
      "|   iter    |  target   | learni... | max_depth | n_esti... |\n",
      "-------------------------------------------------------------\n",
      "| \u001b[0m 1       \u001b[0m | \u001b[0m-0.1541  \u001b[0m | \u001b[0m 0.01469 \u001b[0m | \u001b[0m 8.804   \u001b[0m | \u001b[0m 86.93   \u001b[0m |\n",
      "| \u001b[95m 2       \u001b[0m | \u001b[95m-0.008834\u001b[0m | \u001b[95m 0.08457 \u001b[0m | \u001b[95m 9.192   \u001b[0m | \u001b[95m 56.11   \u001b[0m |\n",
      "| \u001b[95m 3       \u001b[0m | \u001b[95m-0.00472 \u001b[0m | \u001b[95m 0.1594  \u001b[0m | \u001b[95m 4.09    \u001b[0m | \u001b[95m 83.22   \u001b[0m |\n",
      "| \u001b[0m 4       \u001b[0m | \u001b[0m-0.2858  \u001b[0m | \u001b[0m 0.007904\u001b[0m | \u001b[0m 7.418   \u001b[0m | \u001b[0m 89.55   \u001b[0m |\n",
      "| \u001b[0m 5       \u001b[0m | \u001b[0m-0.0299  \u001b[0m | \u001b[0m 0.03331 \u001b[0m | \u001b[0m 6.557   \u001b[0m | \u001b[0m 88.98   \u001b[0m |\n",
      "| \u001b[0m 6       \u001b[0m | \u001b[0m-0.005483\u001b[0m | \u001b[0m 0.1016  \u001b[0m | \u001b[0m 4.11    \u001b[0m | \u001b[0m 83.24   \u001b[0m |\n",
      "| \u001b[0m 7       \u001b[0m | \u001b[0m-0.08618 \u001b[0m | \u001b[0m 0.02158 \u001b[0m | \u001b[0m 6.033   \u001b[0m | \u001b[0m 88.48   \u001b[0m |\n",
      "| \u001b[0m 8       \u001b[0m | \u001b[0m-0.007325\u001b[0m | \u001b[0m 0.07827 \u001b[0m | \u001b[0m 3.633   \u001b[0m | \u001b[0m 83.41   \u001b[0m |\n",
      "| \u001b[0m 9       \u001b[0m | \u001b[0m-0.2851  \u001b[0m | \u001b[0m 0.009401\u001b[0m | \u001b[0m 3.73    \u001b[0m | \u001b[0m 82.72   \u001b[0m |\n",
      "| \u001b[0m 10      \u001b[0m | \u001b[0m-0.008426\u001b[0m | \u001b[0m 0.101   \u001b[0m | \u001b[0m 3.704   \u001b[0m | \u001b[0m 60.33   \u001b[0m |\n",
      "| \u001b[0m 11      \u001b[0m | \u001b[0m-0.004796\u001b[0m | \u001b[0m 0.189   \u001b[0m | \u001b[0m 3.944   \u001b[0m | \u001b[0m 83.49   \u001b[0m |\n",
      "| \u001b[0m 12      \u001b[0m | \u001b[0m-0.06051 \u001b[0m | \u001b[0m 0.03741 \u001b[0m | \u001b[0m 3.474   \u001b[0m | \u001b[0m 83.78   \u001b[0m |\n",
      "| \u001b[0m 13      \u001b[0m | \u001b[0m-0.004766\u001b[0m | \u001b[0m 0.2     \u001b[0m | \u001b[0m 4.368   \u001b[0m | \u001b[0m 83.39   \u001b[0m |\n",
      "=============================================================\n",
      "It takes 0.2716016411781311 minutes\n",
      "{'learning_rate': 0.1594, 'max_depth': 4, 'n_estimators': 83}\n"
     ]
    }
   ],
   "source": [
    "##neg log loss\n",
    "# create purpose function\n",
    "def xgb_cv(learning_rate, max_depth, n_estimators):\n",
    "    model = XGBClassifier(learning_rate = learning_rate,\n",
    "                                max_depth = int(round(max_depth)),\n",
    "                                n_estimators = int(round(n_estimators)),\n",
    "                                scale_pos_weight = 592\n",
    "                          )\n",
    "    cv = StratifiedKFold(n_splits=5)\n",
    "    scores = cross_validate(model, X_train, y_train, cv=cv, scoring='neg_log_loss')\n",
    "    return np.mean(scores['test_score'])\n",
    "\n",
    "# Interval to be explored for input values\n",
    "params={'learning_rate': (0.001, 0.2),\n",
    "           'max_depth': (3, 10),\n",
    "           'n_estimators': (50, 100)\n",
    "          }\n",
    "\n",
    "from bayes_opt import BayesianOptimization\n",
    "xgbBO = BayesianOptimization(xgb_cv, params)\n",
    "\n",
    "start = time.time()\n",
    "xgbBO.maximize(init_points=5, n_iter = 8, acq='ei')\n",
    "\n",
    "print('It takes %s minutes' % ((time.time() - start)/60))\n",
    "\n",
    "params_xgb = xgbBO.max['params']\n",
    "params_xgb['max_depth'] = round(params_xgb['max_depth'])\n",
    "params_xgb['n_estimators'] = round(params_xgb['n_estimators'])\n",
    "params_xgb['learning_rate'] = round((params_xgb['learning_rate']),4)\n",
    "print(params_xgb)"
   ]
  },
  {
   "cell_type": "markdown",
   "metadata": {
    "id": "36IPzxxBBb37"
   },
   "source": [
    "##*CatBoost*"
   ]
  },
  {
   "cell_type": "code",
   "execution_count": 36,
   "metadata": {
    "id": "vo_4OCt-6ih9"
   },
   "outputs": [
    {
     "data": {
      "text/plain": [
       "{'nan_mode': 'Min',\n",
       " 'eval_metric': 'Logloss',\n",
       " 'iterations': 1000,\n",
       " 'sampling_frequency': 'PerTree',\n",
       " 'leaf_estimation_method': 'Newton',\n",
       " 'grow_policy': 'SymmetricTree',\n",
       " 'penalties_coefficient': 1,\n",
       " 'boosting_type': 'Plain',\n",
       " 'model_shrink_mode': 'Constant',\n",
       " 'feature_border_type': 'GreedyLogSum',\n",
       " 'bayesian_matrix_reg': 0.10000000149011612,\n",
       " 'eval_fraction': 0,\n",
       " 'force_unit_auto_pair_weights': False,\n",
       " 'l2_leaf_reg': 3,\n",
       " 'random_strength': 1,\n",
       " 'rsm': 1,\n",
       " 'boost_from_average': False,\n",
       " 'model_size_reg': 0.5,\n",
       " 'pool_metainfo_options': {'tags': {}},\n",
       " 'subsample': 0.800000011920929,\n",
       " 'use_best_model': False,\n",
       " 'class_names': [0, 1],\n",
       " 'random_seed': 0,\n",
       " 'depth': 6,\n",
       " 'posterior_sampling': False,\n",
       " 'border_count': 254,\n",
       " 'classes_count': 0,\n",
       " 'auto_class_weights': 'None',\n",
       " 'sparse_features_conflict_fraction': 0,\n",
       " 'leaf_estimation_backtracking': 'AnyImprovement',\n",
       " 'best_model_min_trees': 1,\n",
       " 'model_shrink_rate': 0,\n",
       " 'min_data_in_leaf': 1,\n",
       " 'loss_function': 'Logloss',\n",
       " 'learning_rate': 0.039131999015808105,\n",
       " 'score_function': 'Cosine',\n",
       " 'task_type': 'CPU',\n",
       " 'leaf_estimation_iterations': 10,\n",
       " 'bootstrap_type': 'MVS',\n",
       " 'max_leaves': 64}"
      ]
     },
     "execution_count": 36,
     "metadata": {},
     "output_type": "execute_result"
    }
   ],
   "source": [
    "from catboost import CatBoostClassifier\n",
    "import random\n",
    "import numpy as np\n",
    "cbc = CatBoostClassifier()\n",
    "cbc.fit(X_train, y_train, verbose=False)\n",
    "cbc.get_all_params()"
   ]
  },
  {
   "cell_type": "code",
   "execution_count": 37,
   "metadata": {
    "colab": {
     "base_uri": "https://localhost:8080/"
    },
    "id": "HaKN_vx5Bb38",
    "outputId": "ee570390-5220-435c-d0fa-51f57ae1ca19"
   },
   "outputs": [
    {
     "name": "stdout",
     "output_type": "stream",
     "text": [
      "|   iter    |  target   |   depth   | iterat... | learni... |\n",
      "-------------------------------------------------------------\n",
      "| \u001b[0m 1       \u001b[0m | \u001b[0m-0.02033 \u001b[0m | \u001b[0m 14.75   \u001b[0m | \u001b[0m 146.4   \u001b[0m | \u001b[0m 0.0591  \u001b[0m |\n",
      "| \u001b[95m 2       \u001b[0m | \u001b[95m-0.01036 \u001b[0m | \u001b[95m 14.16   \u001b[0m | \u001b[95m 127.1   \u001b[0m | \u001b[95m 0.1437  \u001b[0m |\n",
      "| \u001b[95m 3       \u001b[0m | \u001b[95m-0.007247\u001b[0m | \u001b[95m 7.675   \u001b[0m | \u001b[95m 188.5   \u001b[0m | \u001b[95m 0.09017 \u001b[0m |\n",
      "| \u001b[0m 4       \u001b[0m | \u001b[0m-0.51    \u001b[0m | \u001b[0m 7.313   \u001b[0m | \u001b[0m 59.48   \u001b[0m | \u001b[0m 0.004843\u001b[0m |\n",
      "| \u001b[0m 5       \u001b[0m | \u001b[0m-0.05416 \u001b[0m | \u001b[0m 8.607   \u001b[0m | \u001b[0m 189.0   \u001b[0m | \u001b[0m 0.01836 \u001b[0m |\n",
      "| \u001b[95m 6       \u001b[0m | \u001b[95m-0.005509\u001b[0m | \u001b[95m 6.0     \u001b[0m | \u001b[95m 185.1   \u001b[0m | \u001b[95m 0.2     \u001b[0m |\n",
      "| \u001b[95m 7       \u001b[0m | \u001b[95m-0.005495\u001b[0m | \u001b[95m 6.0     \u001b[0m | \u001b[95m 188.4   \u001b[0m | \u001b[95m 0.2     \u001b[0m |\n",
      "| \u001b[0m 8       \u001b[0m | \u001b[0m-0.008945\u001b[0m | \u001b[0m 14.28   \u001b[0m | \u001b[0m 134.2   \u001b[0m | \u001b[0m 0.1795  \u001b[0m |\n",
      "| \u001b[0m 9       \u001b[0m | \u001b[0m-0.5986  \u001b[0m | \u001b[0m 8.837   \u001b[0m | \u001b[0m 130.8   \u001b[0m | \u001b[0m 0.001   \u001b[0m |\n",
      "| \u001b[0m 10      \u001b[0m | \u001b[0m-0.01095 \u001b[0m | \u001b[0m 16.0    \u001b[0m | \u001b[0m 130.6   \u001b[0m | \u001b[0m 0.2     \u001b[0m |\n",
      "| \u001b[0m 11      \u001b[0m | \u001b[0m-0.03944 \u001b[0m | \u001b[0m 15.97   \u001b[0m | \u001b[0m 137.1   \u001b[0m | \u001b[0m 0.04172 \u001b[0m |\n",
      "| \u001b[0m 12      \u001b[0m | \u001b[0m-0.01117 \u001b[0m | \u001b[0m 16.0    \u001b[0m | \u001b[0m 124.6   \u001b[0m | \u001b[0m 0.2     \u001b[0m |\n",
      "=============================================================\n",
      "It takes 29.69179884195328 minutes\n",
      "{'depth': 6, 'iterations': 188, 'learning_rate': 0.2}\n"
     ]
    }
   ],
   "source": [
    "# create purpose function\n",
    "import catboost as cgb\n",
    "from bayes_opt import BayesianOptimization\n",
    "def cat_cv(learning_rate, depth, iterations):\n",
    "    model = CatBoostClassifier(learning_rate = learning_rate,\n",
    "                                depth = int(round(depth)), \n",
    "                                iterations = int(round(iterations)),\n",
    "                                class_weights = {0:1, 1:592},verbose=False\n",
    "                                )\n",
    "    cv = StratifiedKFold(n_splits=5)\n",
    "    scores = cross_validate(model, X_train, y_train,verbose=False, cv=cv, scoring='neg_log_loss')\n",
    "    return np.mean(scores['test_score'])\n",
    "\n",
    "# Interval to be explored for input values\n",
    "params={'learning_rate': (0.001, 0.2),\n",
    "        'depth' : (6, 16),\n",
    "        'iterations': (50, 200)\n",
    "          }\n",
    "\n",
    "from bayes_opt import BayesianOptimization\n",
    "catBO = BayesianOptimization(cat_cv, params)\n",
    "start = time.time()\n",
    "catBO.maximize(init_points=4, n_iter = 8, acq='ei')\n",
    "\n",
    "print('It takes %s minutes' % ((time.time() - start)/60))\n",
    "\n",
    "params_cat = catBO.max['params']\n",
    "params_cat['depth'] = round(params_cat['depth'])\n",
    "params_cat['iterations'] = round(params_cat['iterations'])\n",
    "print(params_cat)"
   ]
  },
  {
   "cell_type": "code",
   "execution_count": 38,
   "metadata": {
    "colab": {
     "base_uri": "https://localhost:8080/"
    },
    "id": "owtqzwDsBb3_",
    "outputId": "e8774482-cd3f-4062-f9ab-d0630fc873f3"
   },
   "outputs": [],
   "source": [
    "#model = CatBoostClassifier(class_weights= {0:1, 1:592}, learning_rate=0.2, iterations=187, depth= 16 ,verbose=False)\n",
    "#cv_results(model, output_type='dict')"
   ]
  },
  {
   "cell_type": "code",
   "execution_count": 39,
   "metadata": {
    "id": "9OX8ticziYJW"
   },
   "outputs": [],
   "source": [
    "model = CatBoostClassifier(class_weights= {0:1, 1:592}, learning_rate=0.2, iterations=187, depth= 16 ,verbose=False )"
   ]
  },
  {
   "cell_type": "code",
   "execution_count": 40,
   "metadata": {
    "colab": {
     "base_uri": "https://localhost:8080/"
    },
    "id": "8xNMHCcKiYfG",
    "outputId": "04099cd6-1404-4be5-d56f-e2275b9b7532"
   },
   "outputs": [
    {
     "name": "stdout",
     "output_type": "stream",
     "text": [
      "              precision    recall  f1-score   support\n",
      "\n",
      "           0       1.00      1.00      1.00      5683\n",
      "           1       0.70      0.70      0.70        10\n",
      "\n",
      "    accuracy                           1.00      5693\n",
      "   macro avg       0.85      0.85      0.85      5693\n",
      "weighted avg       1.00      1.00      1.00      5693\n",
      "\n",
      "[[5680    3]\n",
      " [   3    7]]\n",
      "\n",
      "\n",
      "--------- Summary ------------\n",
      "\n",
      "\n",
      "accuracy: 0.9989\n",
      "Precision: 0.7\n",
      "f1: 0.7\n",
      "Recall: 0.7\n",
      "AUC: 0.8497\n",
      "Precision-Recall: 0.4905\n",
      "Precision-Recallproba: 0.4113\n",
      "MCC: 0.6994721098011614\n"
     ]
    }
   ],
   "source": [
    "model.fit(X_train, y_train)\n",
    "y_pred = model.predict(X_test)\n",
    "y_proba = model.predict_proba(X_test)[:,1]\n",
    "print(classification_report(y_test, y_pred))\n",
    "print(confusion_matrix(y_test, y_pred))\n",
    "\n",
    "# summary  \n",
    "print('\\n')\n",
    "print('--------- Summary ------------')\n",
    "print('\\n')\n",
    "print('accuracy: {}'.format(round(accuracy_score(y_test, y_pred),4)))\n",
    "print('Precision: {}'.format(round(precision_score(y_test, y_pred),4)))\n",
    "print('f1: {}'.format(round(f1_score(y_test, y_pred),4)))\n",
    "print('Recall: {}'.format(round(recall_score(y_test, y_pred),4)))\n",
    "print('AUC: {}'.format(round(roc_auc_score(y_test, y_pred),4)))\n",
    "print('Precision-Recall: {}'.format(round(average_precision_score(y_test, y_pred),4)))\n",
    "print('Precision-Recallproba: {}'.format(round(average_precision_score(y_test, y_proba),4)))\n",
    "print('MCC: {}'.format((matthews_corrcoef(y_test, y_pred))))"
   ]
  },
  {
   "cell_type": "markdown",
   "metadata": {
    "id": "VenJ_iNTV0wo"
   },
   "source": [
    "# ***cv strifiedkfold***"
   ]
  },
  {
   "cell_type": "code",
   "execution_count": 41,
   "metadata": {
    "id": "6RPcn5Hyu8Sy"
   },
   "outputs": [],
   "source": [
    "from sklearn.utils import shuffle\n",
    "from imblearn.pipeline import Pipeline, make_pipeline\n",
    "from imblearn.over_sampling import SMOTE\n",
    "from imblearn.over_sampling import RandomOverSampler\n",
    "X = df.drop('Class', axis = 1)\n",
    "y = df['Class']\n",
    "def cv_results(model, output_type = 'result'):\n",
    "  # Create the pipeline\n",
    "\n",
    "  '''pipeline = make_pipeline(\n",
    "      SMOTE(sampling_strategy='minority', k_neighbors = 5, n_jobs=-1, random_state = 42),\n",
    "      model\n",
    "      )\n",
    "  pipeline = make_pipeline(\n",
    "      RandomUnderSampler(sampling_strategy='majority', random_state = 42),\n",
    "      model\n",
    "      )'''\n",
    "\n",
    "    # Cross validation with sklearn\n",
    "  sk_fold = StratifiedKFold(n_splits=5)\n",
    "\n",
    "  scoring = {'f1': 'f1',\n",
    "             'precision': 'precision',\n",
    "             'recall': 'recall',\n",
    "             'accuracy': 'accuracy',\n",
    "             'roc_auc': 'roc_auc'\n",
    "             }\n",
    "\n",
    "  #cv_scores = cross_validate(pipeline, X, y, scoring = scoring, cv = sk_fold)\n",
    "  cv_scores = cross_validate(model, X, y, scoring = scoring, cv = sk_fold)\n",
    "  \n",
    "  f1 = cv_scores['test_f1']\n",
    "  precision = cv_scores['test_precision']\n",
    "  recall = cv_scores['test_recall']\n",
    "  accuracy = cv_scores['test_accuracy']\n",
    "  roc_auc = cv_scores['test_roc_auc']\n",
    "  # Average the recall and precision and f1 and accuracy scores and roc_auc\n",
    "  avg_f1 = np.mean(cv_scores['test_f1'])\n",
    "  avg_precision = np.mean(cv_scores['test_precision'])\n",
    "  avg_recall = np.mean(cv_scores['test_recall'])\n",
    "  avg_accuracy = np.mean(cv_scores['test_accuracy'])\n",
    "  avg_roc_auc = np.mean(cv_scores['test_roc_auc'])\n",
    "  # Different output options\n",
    "  if output_type == 'dict':\n",
    "    output = {'f1': avg_f1,\n",
    "              'precision': avg_precision,\n",
    "              'recall': avg_recall,\n",
    "              'accuracy': avg_accuracy,\n",
    "              'roc_auc': avg_roc_auc}\n",
    "    return output\n",
    "  elif output_type == 'result':\n",
    "    return cv_scores\n",
    "  elif output_type == 'print':\n",
    "    print('Model: {} \\nF1 score:{:.4f} \\nPrecision: {:.4f} \\nRecall: {:.4f} \\naccuracy: {:.4f}\\nroc_auc: {:.4f}  '.format(\n",
    "        type(model).__name__, avg_f1, avg_precision, avg_recall,  avg_accuracy, roc_auc\n",
    "    ))"
   ]
  },
  {
   "cell_type": "code",
   "execution_count": 42,
   "metadata": {
    "colab": {
     "base_uri": "https://localhost:8080/"
    },
    "id": "gWg-_LIid2Xa",
    "outputId": "c1c86c62-87f8-4691-889a-f0397bbe5382"
   },
   "outputs": [
    {
     "data": {
      "text/plain": [
       "{'f1': 0.06936478330147355,\n",
       " 'precision': 0.03619595563243308,\n",
       " 'recall': 0.8577777777777778,\n",
       " 'accuracy': 0.9595977985317867,\n",
       " 'roc_auc': 0.9190580092674058}"
      ]
     },
     "execution_count": 42,
     "metadata": {},
     "output_type": "execute_result"
    }
   ],
   "source": [
    "log_reg = LogisticRegression(class_weight='balanced')\n",
    "cv_results(log_reg, output_type='dict')"
   ]
  },
  {
   "cell_type": "code",
   "execution_count": 43,
   "metadata": {
    "id": "lbX_5yUatu_y"
   },
   "outputs": [],
   "source": [
    "model_accuracy = []\n",
    "model_precision = []\n",
    "model_recall = []\n",
    "model_f1 = []\n",
    "model_time = []"
   ]
  },
  {
   "cell_type": "markdown",
   "metadata": {
    "id": "imOhFWWRppTq"
   },
   "source": [
    "##model"
   ]
  },
  {
   "cell_type": "code",
   "execution_count": 44,
   "metadata": {
    "id": "K85JUilUC31d"
   },
   "outputs": [],
   "source": [
    "log_reg = LogisticRegression(class_weight='balanced')\n",
    "lightgbm1= lgb.LGBMClassifier()\n",
    "xgboost1 = XGBClassifier()\n",
    "catboost1 = CatBoostClassifier(verbose=False)\n",
    "\n",
    "#CLASS_WEIGHT\n",
    "lightgbm2= lgb.LGBMClassifier(class_weight='balanced')\n",
    "xgboost2 = XGBClassifier(scale_pos_weight = 592)\n",
    "catboost2 = CatBoostClassifier(scale_pos_weight = 592,verbose=False)\n",
    "catboost3 = CatBoostClassifier(class_weights= {0:1, 1:592}, learning_rate=0.2, iterations=187, depth= 16 ,verbose=False )\n",
    "\n",
    "#Extension\n",
    "from sklearn.ensemble import RandomForestClassifier\n",
    "from sklearn.tree import DecisionTreeClassifier\n",
    "from sklearn.ensemble import GradientBoostingClassifier\n",
    "\n",
    "from sklearn.ensemble import StackingClassifier\n",
    "\n",
    "estimators = [('rf', RandomForestClassifier(n_estimators=1000, random_state=4000)),('lgbm', LGBMClassifier(learning_rate='0.182', max_depth= '8', num_leaves= '33', class_weight='balanced'))]\n",
    "\n",
    "clf = StackingClassifier(estimators=estimators, final_estimator=GradientBoostingClassifier(n_estimators=1000, learning_rate=1.0,max_depth=1, random_state=200))\n",
    "\n",
    "#HYPER_PARAMETR\n",
    "lightgbm = lgb.LGBMClassifier(learning_rate='0.182', max_depth= '8', num_leaves= '33', class_weight='balanced')\n",
    "xgboost = XGBClassifier(scale_pos_weight = 592, learning_rate= 0.1109, max_depth=9, n_estimators= 98)\n",
    "catboost = CatBoostClassifier(scale_pos_weight = 592,verbose=False)\n",
    "\n",
    "#ENSEMBLE\n",
    "Model1 = [('lightgbm', lightgbm), ('xgboost', xgboost), ('catboost', catboost)]\n",
    "Model2 = [('lightgbm', lightgbm), ('xgboost', xgboost)]\n",
    "Model3 = [('catboost', catboost), ('xgboost', xgboost)]\n",
    "Model4 = [('lightgbm', lightgbm), ('catboost', catboost)]\n",
    "\n",
    "voting1 = VotingClassifier(estimators=Model1,voting='soft')\n",
    "voting2 = VotingClassifier(estimators=Model2,voting='soft')\n",
    "voting3 = VotingClassifier(estimators=Model3,voting='soft')\n",
    "voting4 = VotingClassifier(estimators=Model4,voting='soft')"
   ]
  },
  {
   "cell_type": "markdown",
   "metadata": {
    "id": "8GrsoHwaF56q"
   },
   "source": [
    "# ***Result***"
   ]
  },
  {
   "cell_type": "code",
   "execution_count": 45,
   "metadata": {
    "id": "sWGulc7tmGV0"
   },
   "outputs": [],
   "source": [
    "models = [lightgbm1, xgboost1 ,catboost1]"
   ]
  },
  {
   "cell_type": "code",
   "execution_count": 46,
   "metadata": {
    "id": "rxuiHUbumGV1"
   },
   "outputs": [],
   "source": [
    "name = [\"LGBM_Smote\", \"XGB_Smote\", \"Cat_Smote\"]"
   ]
  },
  {
   "cell_type": "code",
   "execution_count": 47,
   "metadata": {
    "id": "H3Q5xqrbmGV2"
   },
   "outputs": [],
   "source": [
    "for model in models:\n",
    "  results = cv_results(model, output_type='dict')\n",
    "\n",
    "  model_accuracy.append(results['accuracy'])\n",
    "  model_precision.append(results['precision'])\n",
    "  model_recall.append(results['recall'])\n",
    "  model_f1.append(results['f1'])"
   ]
  },
  {
   "cell_type": "code",
   "execution_count": 48,
   "metadata": {
    "colab": {
     "base_uri": "https://localhost:8080/",
     "height": 144
    },
    "id": "S7j6qPUhb04n",
    "outputId": "c0fa193e-c6bb-4f34-97ea-4becb437ad55"
   },
   "outputs": [
    {
     "data": {
      "text/html": [
       "<div>\n",
       "<style scoped>\n",
       "    .dataframe tbody tr th:only-of-type {\n",
       "        vertical-align: middle;\n",
       "    }\n",
       "\n",
       "    .dataframe tbody tr th {\n",
       "        vertical-align: top;\n",
       "    }\n",
       "\n",
       "    .dataframe thead th {\n",
       "        text-align: right;\n",
       "    }\n",
       "</style>\n",
       "<table border=\"1\" class=\"dataframe\">\n",
       "  <thead>\n",
       "    <tr style=\"text-align: right;\">\n",
       "      <th></th>\n",
       "      <th>Model</th>\n",
       "      <th>accuracy</th>\n",
       "      <th>precision</th>\n",
       "      <th>recall</th>\n",
       "      <th>f1</th>\n",
       "    </tr>\n",
       "  </thead>\n",
       "  <tbody>\n",
       "    <tr>\n",
       "      <td>0</td>\n",
       "      <td>LGBM_Smote</td>\n",
       "      <td>0.996908</td>\n",
       "      <td>0.344762</td>\n",
       "      <td>0.413333</td>\n",
       "      <td>0.355455</td>\n",
       "    </tr>\n",
       "    <tr>\n",
       "      <td>1</td>\n",
       "      <td>XGB_Smote</td>\n",
       "      <td>0.999122</td>\n",
       "      <td>0.883232</td>\n",
       "      <td>0.588889</td>\n",
       "      <td>0.682707</td>\n",
       "    </tr>\n",
       "    <tr>\n",
       "      <td>2</td>\n",
       "      <td>Cat_Smote</td>\n",
       "      <td>0.999262</td>\n",
       "      <td>0.848312</td>\n",
       "      <td>0.713333</td>\n",
       "      <td>0.768263</td>\n",
       "    </tr>\n",
       "  </tbody>\n",
       "</table>\n",
       "</div>"
      ],
      "text/plain": [
       "        Model  accuracy precision    recall        f1\n",
       "0  LGBM_Smote  0.996908  0.344762  0.413333  0.355455\n",
       "1   XGB_Smote  0.999122  0.883232  0.588889  0.682707\n",
       "2   Cat_Smote  0.999262  0.848312  0.713333  0.768263"
      ]
     },
     "execution_count": 48,
     "metadata": {},
     "output_type": "execute_result"
    }
   ],
   "source": [
    "model = pd.DataFrame(data=[name,\n",
    "                   model_accuracy,\n",
    "                   model_precision,\n",
    "                   model_recall,\n",
    "                   model_f1]).T\n",
    "model.columns = ['Model', 'accuracy',\n",
    "                 'precision', 'recall', 'f1']\n",
    "model.sort_index(axis=0, level=None, ascending=True, inplace=False, kind='quicksort',\n",
    "                                  na_position='last', sort_remaining=True)"
   ]
  },
  {
   "cell_type": "markdown",
   "metadata": {
    "id": "7Pc3NhUcoHQi"
   },
   "source": [
    "##*Result Under Sampling*"
   ]
  },
  {
   "cell_type": "code",
   "execution_count": 49,
   "metadata": {
    "id": "ShTil_vboHQk"
   },
   "outputs": [],
   "source": [
    "models = [lightgbm1, xgboost1 ,catboost1]"
   ]
  },
  {
   "cell_type": "code",
   "execution_count": 50,
   "metadata": {
    "id": "RlAJtNCioHQl"
   },
   "outputs": [],
   "source": [
    "name = [\"LGBM_UnderSampling\", \"XGB_UnderSampling\", \"Cat_UnderSampling\"]"
   ]
  },
  {
   "cell_type": "code",
   "execution_count": 51,
   "metadata": {
    "id": "inNYaQP48p9H"
   },
   "outputs": [],
   "source": [
    "for model in models:\n",
    "  results = cv_results(model, output_type='dict')\n",
    "\n",
    "  model_accuracy.append(results['accuracy'])\n",
    "  model_precision.append(results['precision'])\n",
    "  model_recall.append(results['recall'])\n",
    "  model_f1.append(results['f1'])"
   ]
  },
  {
   "cell_type": "code",
   "execution_count": 52,
   "metadata": {
    "colab": {
     "base_uri": "https://localhost:8080/",
     "height": 144
    },
    "id": "VICqZ1ecbLcw",
    "outputId": "5e97f80d-62f8-465d-bfa3-0b55e2928a63"
   },
   "outputs": [
    {
     "data": {
      "text/html": [
       "<div>\n",
       "<style scoped>\n",
       "    .dataframe tbody tr th:only-of-type {\n",
       "        vertical-align: middle;\n",
       "    }\n",
       "\n",
       "    .dataframe tbody tr th {\n",
       "        vertical-align: top;\n",
       "    }\n",
       "\n",
       "    .dataframe thead th {\n",
       "        text-align: right;\n",
       "    }\n",
       "</style>\n",
       "<table border=\"1\" class=\"dataframe\">\n",
       "  <thead>\n",
       "    <tr style=\"text-align: right;\">\n",
       "      <th></th>\n",
       "      <th>Model</th>\n",
       "      <th>accuracy</th>\n",
       "      <th>precision</th>\n",
       "      <th>recall</th>\n",
       "      <th>f1</th>\n",
       "    </tr>\n",
       "  </thead>\n",
       "  <tbody>\n",
       "    <tr>\n",
       "      <td>0</td>\n",
       "      <td>LGBM_UnderSampling</td>\n",
       "      <td>0.996908</td>\n",
       "      <td>0.344762</td>\n",
       "      <td>0.413333</td>\n",
       "      <td>0.355455</td>\n",
       "    </tr>\n",
       "    <tr>\n",
       "      <td>1</td>\n",
       "      <td>XGB_UnderSampling</td>\n",
       "      <td>0.999122</td>\n",
       "      <td>0.883232</td>\n",
       "      <td>0.588889</td>\n",
       "      <td>0.682707</td>\n",
       "    </tr>\n",
       "    <tr>\n",
       "      <td>2</td>\n",
       "      <td>Cat_UnderSampling</td>\n",
       "      <td>0.999262</td>\n",
       "      <td>0.848312</td>\n",
       "      <td>0.713333</td>\n",
       "      <td>0.768263</td>\n",
       "    </tr>\n",
       "    <tr>\n",
       "      <td>3</td>\n",
       "      <td>NaN</td>\n",
       "      <td>0.996908</td>\n",
       "      <td>0.344762</td>\n",
       "      <td>0.413333</td>\n",
       "      <td>0.355455</td>\n",
       "    </tr>\n",
       "    <tr>\n",
       "      <td>4</td>\n",
       "      <td>NaN</td>\n",
       "      <td>0.999122</td>\n",
       "      <td>0.883232</td>\n",
       "      <td>0.588889</td>\n",
       "      <td>0.682707</td>\n",
       "    </tr>\n",
       "    <tr>\n",
       "      <td>5</td>\n",
       "      <td>NaN</td>\n",
       "      <td>0.999262</td>\n",
       "      <td>0.848312</td>\n",
       "      <td>0.713333</td>\n",
       "      <td>0.768263</td>\n",
       "    </tr>\n",
       "  </tbody>\n",
       "</table>\n",
       "</div>"
      ],
      "text/plain": [
       "                Model  accuracy precision    recall        f1\n",
       "0  LGBM_UnderSampling  0.996908  0.344762  0.413333  0.355455\n",
       "1   XGB_UnderSampling  0.999122  0.883232  0.588889  0.682707\n",
       "2   Cat_UnderSampling  0.999262  0.848312  0.713333  0.768263\n",
       "3                 NaN  0.996908  0.344762  0.413333  0.355455\n",
       "4                 NaN  0.999122  0.883232  0.588889  0.682707\n",
       "5                 NaN  0.999262  0.848312  0.713333  0.768263"
      ]
     },
     "execution_count": 52,
     "metadata": {},
     "output_type": "execute_result"
    }
   ],
   "source": [
    "model = pd.DataFrame(data=[name,\n",
    "                   model_accuracy,\n",
    "                   model_precision,\n",
    "                   model_recall,\n",
    "                   model_f1]).T\n",
    "model.columns = ['Model','accuracy',\n",
    "                 'precision', 'recall', 'f1']\n",
    "model.sort_index(axis=0, level=None, ascending=True, inplace=False, kind='quicksort',\n",
    "                                  na_position='last', sort_remaining=True)"
   ]
  },
  {
   "cell_type": "markdown",
   "metadata": {
    "id": "RPivywgGohTF"
   },
   "source": [
    "##*Result Class_Weight*"
   ]
  },
  {
   "cell_type": "code",
   "execution_count": 53,
   "metadata": {
    "id": "EffnxGplohTG"
   },
   "outputs": [],
   "source": [
    "models = [lightgbm2, xgboost2 ,catboost2]"
   ]
  },
  {
   "cell_type": "code",
   "execution_count": 54,
   "metadata": {
    "id": "zBzMlttkohTH"
   },
   "outputs": [],
   "source": [
    "name = [\"LGBM_ClassWeight\", \"XGB_ClassWeight\", \"Cat_ClassWeight\"]"
   ]
  },
  {
   "cell_type": "code",
   "execution_count": 55,
   "metadata": {
    "id": "1MH_HBnZH2nV"
   },
   "outputs": [],
   "source": [
    "for model in models:\n",
    "  results = cv_results(model, output_type='dict')\n",
    "\n",
    "  model_accuracy.append(results['accuracy'])\n",
    "  model_precision.append(results['precision'])\n",
    "  model_recall.append(results['recall'])\n",
    "  model_f1.append(results['f1'])"
   ]
  },
  {
   "cell_type": "code",
   "execution_count": 56,
   "metadata": {
    "colab": {
     "base_uri": "https://localhost:8080/",
     "height": 144
    },
    "id": "QQU2oiqLejkA",
    "outputId": "310b42e4-2593-4421-9be9-4aca432e3f27"
   },
   "outputs": [
    {
     "data": {
      "text/html": [
       "<div>\n",
       "<style scoped>\n",
       "    .dataframe tbody tr th:only-of-type {\n",
       "        vertical-align: middle;\n",
       "    }\n",
       "\n",
       "    .dataframe tbody tr th {\n",
       "        vertical-align: top;\n",
       "    }\n",
       "\n",
       "    .dataframe thead th {\n",
       "        text-align: right;\n",
       "    }\n",
       "</style>\n",
       "<table border=\"1\" class=\"dataframe\">\n",
       "  <thead>\n",
       "    <tr style=\"text-align: right;\">\n",
       "      <th></th>\n",
       "      <th>Model</th>\n",
       "      <th>accuracy</th>\n",
       "      <th>precision</th>\n",
       "      <th>recall</th>\n",
       "      <th>f1</th>\n",
       "    </tr>\n",
       "  </thead>\n",
       "  <tbody>\n",
       "    <tr>\n",
       "      <td>0</td>\n",
       "      <td>LGBM_ClassWeight</td>\n",
       "      <td>0.996908</td>\n",
       "      <td>0.344762</td>\n",
       "      <td>0.413333</td>\n",
       "      <td>0.355455</td>\n",
       "    </tr>\n",
       "    <tr>\n",
       "      <td>1</td>\n",
       "      <td>XGB_ClassWeight</td>\n",
       "      <td>0.999122</td>\n",
       "      <td>0.883232</td>\n",
       "      <td>0.588889</td>\n",
       "      <td>0.682707</td>\n",
       "    </tr>\n",
       "    <tr>\n",
       "      <td>2</td>\n",
       "      <td>Cat_ClassWeight</td>\n",
       "      <td>0.999262</td>\n",
       "      <td>0.848312</td>\n",
       "      <td>0.713333</td>\n",
       "      <td>0.768263</td>\n",
       "    </tr>\n",
       "    <tr>\n",
       "      <td>3</td>\n",
       "      <td>NaN</td>\n",
       "      <td>0.996908</td>\n",
       "      <td>0.344762</td>\n",
       "      <td>0.413333</td>\n",
       "      <td>0.355455</td>\n",
       "    </tr>\n",
       "    <tr>\n",
       "      <td>4</td>\n",
       "      <td>NaN</td>\n",
       "      <td>0.999122</td>\n",
       "      <td>0.883232</td>\n",
       "      <td>0.588889</td>\n",
       "      <td>0.682707</td>\n",
       "    </tr>\n",
       "    <tr>\n",
       "      <td>5</td>\n",
       "      <td>NaN</td>\n",
       "      <td>0.999262</td>\n",
       "      <td>0.848312</td>\n",
       "      <td>0.713333</td>\n",
       "      <td>0.768263</td>\n",
       "    </tr>\n",
       "    <tr>\n",
       "      <td>6</td>\n",
       "      <td>NaN</td>\n",
       "      <td>0.999227</td>\n",
       "      <td>0.830345</td>\n",
       "      <td>0.733333</td>\n",
       "      <td>0.764458</td>\n",
       "    </tr>\n",
       "    <tr>\n",
       "      <td>7</td>\n",
       "      <td>NaN</td>\n",
       "      <td>0.999332</td>\n",
       "      <td>0.85101</td>\n",
       "      <td>0.753333</td>\n",
       "      <td>0.795105</td>\n",
       "    </tr>\n",
       "    <tr>\n",
       "      <td>8</td>\n",
       "      <td>NaN</td>\n",
       "      <td>0.999087</td>\n",
       "      <td>0.727778</td>\n",
       "      <td>0.755556</td>\n",
       "      <td>0.738331</td>\n",
       "    </tr>\n",
       "  </tbody>\n",
       "</table>\n",
       "</div>"
      ],
      "text/plain": [
       "              Model  accuracy precision    recall        f1\n",
       "0  LGBM_ClassWeight  0.996908  0.344762  0.413333  0.355455\n",
       "1   XGB_ClassWeight  0.999122  0.883232  0.588889  0.682707\n",
       "2   Cat_ClassWeight  0.999262  0.848312  0.713333  0.768263\n",
       "3               NaN  0.996908  0.344762  0.413333  0.355455\n",
       "4               NaN  0.999122  0.883232  0.588889  0.682707\n",
       "5               NaN  0.999262  0.848312  0.713333  0.768263\n",
       "6               NaN  0.999227  0.830345  0.733333  0.764458\n",
       "7               NaN  0.999332   0.85101  0.753333  0.795105\n",
       "8               NaN  0.999087  0.727778  0.755556  0.738331"
      ]
     },
     "execution_count": 56,
     "metadata": {},
     "output_type": "execute_result"
    }
   ],
   "source": [
    "model = pd.DataFrame(data=[name,\n",
    "                   model_accuracy,\n",
    "                   model_precision,\n",
    "                   model_recall,\n",
    "                   model_f1]).T\n",
    "model.columns = ['Model', 'accuracy',\n",
    "                 'precision', 'recall', 'f1']\n",
    "model.sort_index(axis=0, level=None, ascending=True, inplace=False, kind='quicksort',\n",
    "                                  na_position='last', sort_remaining=True)"
   ]
  },
  {
   "cell_type": "markdown",
   "metadata": {
    "id": "XOkxHYL0ilp4"
   },
   "source": [
    "##*Result by Hyper Parametr Tuning*"
   ]
  },
  {
   "cell_type": "code",
   "execution_count": 57,
   "metadata": {
    "id": "M-hTbbigtcGv"
   },
   "outputs": [],
   "source": [
    "models =[lightgbm, xgboost, catboost, voting1, voting2, voting3, voting4, clf]"
   ]
  },
  {
   "cell_type": "code",
   "execution_count": 58,
   "metadata": {
    "id": "tfQ5Ockttjf-"
   },
   "outputs": [],
   "source": [
    "names = [\"LGBM\", \"XGB\", \"CatBoost\",\n",
    "        \"Vot_Lg,Xg,Ca\", \"Vot_Lg,Xg\",\n",
    "        \"Vot_Xg,Ca\", \"Vot_Lg,Ca\", \"Stacking\"] "
   ]
  },
  {
   "cell_type": "code",
   "execution_count": 59,
   "metadata": {
    "id": "kcaloTE9ilp7"
   },
   "outputs": [],
   "source": [
    "for model in models:\n",
    "  #start = time.time()\n",
    "  results = cv_results(model, output_type='dict')\n",
    "\n",
    "  model_accuracy.append(results['accuracy'])\n",
    "  model_precision.append(results['precision'])\n",
    "  model_recall.append(results['recall'])\n",
    "  model_f1.append(results['f1'])\n",
    "  #model_time.append(time.time()-start)"
   ]
  },
  {
   "cell_type": "code",
   "execution_count": 60,
   "metadata": {
    "colab": {
     "base_uri": "https://localhost:8080/",
     "height": 269
    },
    "id": "RaUTg4PBjCOE",
    "outputId": "93cbe55f-5501-41cb-cbc2-5d9612409255"
   },
   "outputs": [
    {
     "data": {
      "text/html": [
       "<div>\n",
       "<style scoped>\n",
       "    .dataframe tbody tr th:only-of-type {\n",
       "        vertical-align: middle;\n",
       "    }\n",
       "\n",
       "    .dataframe tbody tr th {\n",
       "        vertical-align: top;\n",
       "    }\n",
       "\n",
       "    .dataframe thead th {\n",
       "        text-align: right;\n",
       "    }\n",
       "</style>\n",
       "<table border=\"1\" class=\"dataframe\">\n",
       "  <thead>\n",
       "    <tr style=\"text-align: right;\">\n",
       "      <th></th>\n",
       "      <th>Model</th>\n",
       "      <th>accuracy</th>\n",
       "      <th>precision</th>\n",
       "      <th>recall</th>\n",
       "      <th>f1</th>\n",
       "    </tr>\n",
       "  </thead>\n",
       "  <tbody>\n",
       "    <tr>\n",
       "      <td>0</td>\n",
       "      <td>LGBM</td>\n",
       "      <td>0.996908</td>\n",
       "      <td>0.344762</td>\n",
       "      <td>0.413333</td>\n",
       "      <td>0.355455</td>\n",
       "    </tr>\n",
       "    <tr>\n",
       "      <td>1</td>\n",
       "      <td>XGB</td>\n",
       "      <td>0.999122</td>\n",
       "      <td>0.883232</td>\n",
       "      <td>0.588889</td>\n",
       "      <td>0.682707</td>\n",
       "    </tr>\n",
       "    <tr>\n",
       "      <td>2</td>\n",
       "      <td>CatBoost</td>\n",
       "      <td>0.999262</td>\n",
       "      <td>0.848312</td>\n",
       "      <td>0.713333</td>\n",
       "      <td>0.768263</td>\n",
       "    </tr>\n",
       "    <tr>\n",
       "      <td>3</td>\n",
       "      <td>Vot_Lg,Xg,Ca</td>\n",
       "      <td>0.996908</td>\n",
       "      <td>0.344762</td>\n",
       "      <td>0.413333</td>\n",
       "      <td>0.355455</td>\n",
       "    </tr>\n",
       "    <tr>\n",
       "      <td>4</td>\n",
       "      <td>Vot_Lg,Xg</td>\n",
       "      <td>0.999122</td>\n",
       "      <td>0.883232</td>\n",
       "      <td>0.588889</td>\n",
       "      <td>0.682707</td>\n",
       "    </tr>\n",
       "    <tr>\n",
       "      <td>5</td>\n",
       "      <td>Vot_Xg,Ca</td>\n",
       "      <td>0.999262</td>\n",
       "      <td>0.848312</td>\n",
       "      <td>0.713333</td>\n",
       "      <td>0.768263</td>\n",
       "    </tr>\n",
       "    <tr>\n",
       "      <td>6</td>\n",
       "      <td>Vot_Lg,Ca</td>\n",
       "      <td>0.999227</td>\n",
       "      <td>0.830345</td>\n",
       "      <td>0.733333</td>\n",
       "      <td>0.764458</td>\n",
       "    </tr>\n",
       "    <tr>\n",
       "      <td>7</td>\n",
       "      <td>Stacking</td>\n",
       "      <td>0.999332</td>\n",
       "      <td>0.85101</td>\n",
       "      <td>0.753333</td>\n",
       "      <td>0.795105</td>\n",
       "    </tr>\n",
       "    <tr>\n",
       "      <td>8</td>\n",
       "      <td>NaN</td>\n",
       "      <td>0.999087</td>\n",
       "      <td>0.727778</td>\n",
       "      <td>0.755556</td>\n",
       "      <td>0.738331</td>\n",
       "    </tr>\n",
       "    <tr>\n",
       "      <td>9</td>\n",
       "      <td>NaN</td>\n",
       "      <td>0.999227</td>\n",
       "      <td>0.830345</td>\n",
       "      <td>0.733333</td>\n",
       "      <td>0.764458</td>\n",
       "    </tr>\n",
       "    <tr>\n",
       "      <td>10</td>\n",
       "      <td>NaN</td>\n",
       "      <td>0.999262</td>\n",
       "      <td>0.825216</td>\n",
       "      <td>0.753333</td>\n",
       "      <td>0.781169</td>\n",
       "    </tr>\n",
       "    <tr>\n",
       "      <td>11</td>\n",
       "      <td>NaN</td>\n",
       "      <td>0.999087</td>\n",
       "      <td>0.727778</td>\n",
       "      <td>0.755556</td>\n",
       "      <td>0.738331</td>\n",
       "    </tr>\n",
       "    <tr>\n",
       "      <td>12</td>\n",
       "      <td>NaN</td>\n",
       "      <td>0.999297</td>\n",
       "      <td>0.841883</td>\n",
       "      <td>0.753333</td>\n",
       "      <td>0.786279</td>\n",
       "    </tr>\n",
       "    <tr>\n",
       "      <td>13</td>\n",
       "      <td>NaN</td>\n",
       "      <td>0.999262</td>\n",
       "      <td>0.84489</td>\n",
       "      <td>0.733333</td>\n",
       "      <td>0.772077</td>\n",
       "    </tr>\n",
       "    <tr>\n",
       "      <td>14</td>\n",
       "      <td>NaN</td>\n",
       "      <td>0.999332</td>\n",
       "      <td>0.841883</td>\n",
       "      <td>0.773333</td>\n",
       "      <td>0.799351</td>\n",
       "    </tr>\n",
       "    <tr>\n",
       "      <td>15</td>\n",
       "      <td>NaN</td>\n",
       "      <td>0.999297</td>\n",
       "      <td>0.841883</td>\n",
       "      <td>0.753333</td>\n",
       "      <td>0.786279</td>\n",
       "    </tr>\n",
       "    <tr>\n",
       "      <td>16</td>\n",
       "      <td>NaN</td>\n",
       "      <td>0.999262</td>\n",
       "      <td>0.851883</td>\n",
       "      <td>0.713333</td>\n",
       "      <td>0.767937</td>\n",
       "    </tr>\n",
       "  </tbody>\n",
       "</table>\n",
       "</div>"
      ],
      "text/plain": [
       "           Model  accuracy precision    recall        f1\n",
       "0           LGBM  0.996908  0.344762  0.413333  0.355455\n",
       "1            XGB  0.999122  0.883232  0.588889  0.682707\n",
       "2       CatBoost  0.999262  0.848312  0.713333  0.768263\n",
       "3   Vot_Lg,Xg,Ca  0.996908  0.344762  0.413333  0.355455\n",
       "4      Vot_Lg,Xg  0.999122  0.883232  0.588889  0.682707\n",
       "5      Vot_Xg,Ca  0.999262  0.848312  0.713333  0.768263\n",
       "6      Vot_Lg,Ca  0.999227  0.830345  0.733333  0.764458\n",
       "7       Stacking  0.999332   0.85101  0.753333  0.795105\n",
       "8            NaN  0.999087  0.727778  0.755556  0.738331\n",
       "9            NaN  0.999227  0.830345  0.733333  0.764458\n",
       "10           NaN  0.999262  0.825216  0.753333  0.781169\n",
       "11           NaN  0.999087  0.727778  0.755556  0.738331\n",
       "12           NaN  0.999297  0.841883  0.753333  0.786279\n",
       "13           NaN  0.999262   0.84489  0.733333  0.772077\n",
       "14           NaN  0.999332  0.841883  0.773333  0.799351\n",
       "15           NaN  0.999297  0.841883  0.753333  0.786279\n",
       "16           NaN  0.999262  0.851883  0.713333  0.767937"
      ]
     },
     "execution_count": 60,
     "metadata": {},
     "output_type": "execute_result"
    }
   ],
   "source": [
    "model = pd.DataFrame(data=[names,\n",
    "                   model_accuracy,\n",
    "                   model_precision,\n",
    "                   model_recall,\n",
    "                   model_f1]).T\n",
    "model.columns = ['Model', 'accuracy',\n",
    "                 'precision', 'recall', 'f1']\n",
    "model.sort_index(axis=0, level=None, ascending=True, inplace=False, kind='quicksort',\n",
    "                                  na_position='last', sort_remaining=True)"
   ]
  },
  {
   "cell_type": "markdown",
   "metadata": {
    "id": "PM7LLx3ZByqZ"
   },
   "source": [
    "# ***result MCC, precision , recall, f1***"
   ]
  },
  {
   "cell_type": "code",
   "execution_count": 61,
   "metadata": {
    "id": "KwYQo3gUTlaK"
   },
   "outputs": [],
   "source": [
    "cat_BO = CatBoostClassifier(class_weights= {0:1, 1:592}, learning_rate=0.2, iterations=187, depth= 16 ,verbose=False )\n",
    "names = [\"Cat_BO\"]\n",
    "models = [cat_BO]"
   ]
  },
  {
   "cell_type": "code",
   "execution_count": 62,
   "metadata": {
    "colab": {
     "base_uri": "https://localhost:8080/"
    },
    "id": "rfc2jxJoT7ls",
    "outputId": "c2a59700-a9c9-48d8-eba0-2ad49ba85f8e"
   },
   "outputs": [
    {
     "name": "stdout",
     "output_type": "stream",
     "text": [
      ".....Cat_BO.....  \n",
      "\n",
      "MCC :  0.7384087261895759\n",
      "\n",
      "recall :  0.7555555555555555\n",
      "\n",
      "f1:  0.7323842000568344\n",
      "\n",
      "precision:  0.7352397602397602\n",
      "***************************************\n"
     ]
    }
   ],
   "source": [
    "X = df.drop(['Class'] ,axis=1)\n",
    "y = df['Class']\n",
    "i=0\n",
    "j=0 \n",
    "\n",
    "for model in models:\n",
    "  cv = StratifiedKFold(n_splits=5)\n",
    "  precision = []\n",
    "  recall = []\n",
    "  f1 = []\n",
    "  MCC = []\n",
    "\n",
    "  for train, test in cv.split(X, y):\n",
    "\n",
    "      pred = model.fit(X.iloc[train], y.iloc[train]).predict(X.iloc[test])\n",
    "      precision.append(precision_score(y.iloc[test], pred))\n",
    "      recall.append(recall_score(y.iloc[test], pred)) \n",
    "      f1.append(f1_score(y.iloc[test], pred)) \n",
    "      MCC.append(matthews_corrcoef(y.iloc[test], pred)) \n",
    "      i+=1\n",
    "  mean_precision = np.mean(precision) \n",
    "  mean_MCC = np.mean(MCC)\n",
    "  mean_F1  = np.mean(f1)\n",
    "  mean_recall = np.mean(recall)\n",
    "\n",
    "  print(\".....%s.....  \"% names[j])\n",
    "  print(\"\\nMCC : \" ,mean_MCC) \n",
    "  print(\"\\nrecall : \",mean_recall) \n",
    "  print(\"\\nf1: \",mean_F1) \n",
    "  print(\"\\nprecision: \", mean_precision)\n",
    "  print(\"***************************************\")  \n",
    "  i=0\n",
    "  j=j+1"
   ]
  },
  {
   "cell_type": "code",
   "execution_count": 63,
   "metadata": {
    "id": "iL1lglSAzmYc"
   },
   "outputs": [],
   "source": [
    "models =[lightgbm, xgboost, catboost, voting1, voting2, voting3, voting4, clf]\n",
    "names = [\"LGBM\", \"XGB\", \"CatBoost\",\n",
    "        \"Vot_Lg,Xg,Ca\", \"Vot_Lg,Xg\",\n",
    "        \"Vot_Xg,Ca\", \"Vot_Lg,Ca\", \"Stacking Classifier\"] "
   ]
  },
  {
   "cell_type": "code",
   "execution_count": 64,
   "metadata": {
    "colab": {
     "base_uri": "https://localhost:8080/"
    },
    "id": "jFq8iPqozmp8",
    "outputId": "cb59222b-0246-41cb-877b-04d6d09c9177"
   },
   "outputs": [
    {
     "name": "stdout",
     "output_type": "stream",
     "text": [
      ".....LGBM.....  \n",
      "\n",
      "MCC :  0.7726974179140934\n",
      "\n",
      "recall :  0.7333333333333333\n",
      "\n",
      "f1:  0.7644582470669427\n",
      "\n",
      "precision:  0.8303446553446554\n",
      "***************************************\n",
      ".....XGB.....  \n",
      "\n",
      "MCC :  0.7848544407998304\n",
      "\n",
      "recall :  0.7533333333333332\n",
      "\n",
      "f1:  0.7811688311688311\n",
      "\n",
      "precision:  0.8252164502164501\n",
      "***************************************\n",
      ".....CatBoost.....  \n",
      "\n",
      "MCC :  0.7395454802169528\n",
      "\n",
      "recall :  0.7555555555555555\n",
      "\n",
      "f1:  0.7383306751727804\n",
      "\n",
      "precision:  0.7277777777777776\n",
      "***************************************\n",
      ".....Vot_Lg,Xg,Ca.....  \n",
      "\n",
      "MCC :  0.7915810920046212\n",
      "\n",
      "recall :  0.7533333333333332\n",
      "\n",
      "f1:  0.7862787539258127\n",
      "\n",
      "precision:  0.8418831168831169\n",
      "***************************************\n",
      ".....Vot_Lg,Xg.....  \n",
      "\n",
      "MCC :  0.7801602681108605\n",
      "\n",
      "recall :  0.7333333333333333\n",
      "\n",
      "f1:  0.7720772946859904\n",
      "\n",
      "precision:  0.8448901098901098\n",
      "***************************************\n",
      ".....Vot_Xg,Ca.....  \n",
      "\n",
      "MCC :  0.8031472048979664\n",
      "\n",
      "recall :  0.7733333333333333\n",
      "\n",
      "f1:  0.7993506493506494\n",
      "\n",
      "precision:  0.8418831168831169\n",
      "***************************************\n",
      ".....Vot_Lg,Ca.....  \n",
      "\n",
      "MCC :  0.7915810920046212\n",
      "\n",
      "recall :  0.7533333333333332\n",
      "\n",
      "f1:  0.7862787539258127\n",
      "\n",
      "precision:  0.8418831168831169\n",
      "***************************************\n",
      ".....Stacking Classifier.....  \n",
      "\n",
      "MCC :  0.7748384001335167\n",
      "\n",
      "recall :  0.7133333333333334\n",
      "\n",
      "f1:  0.7679365079365079\n",
      "\n",
      "precision:  0.8518831168831168\n",
      "***************************************\n"
     ]
    }
   ],
   "source": [
    "X = df.drop(['Class'] ,axis=1)\n",
    "y = df['Class']\n",
    "i=0\n",
    "j=0 \n",
    "\n",
    "for model in models:\n",
    "  cv = StratifiedKFold(n_splits=5)\n",
    "  precision = []\n",
    "  recall = []\n",
    "  f1 = []\n",
    "  MCC = []\n",
    "\n",
    "  for train, test in cv.split(X, y):\n",
    "\n",
    "      pred = model.fit(X.iloc[train], y.iloc[train]).predict(X.iloc[test])\n",
    "      precision.append(precision_score(y.iloc[test], pred))\n",
    "      recall.append(recall_score(y.iloc[test], pred)) \n",
    "      f1.append(f1_score(y.iloc[test], pred)) \n",
    "      MCC.append(matthews_corrcoef(y.iloc[test], pred)) \n",
    "      i+=1\n",
    "  mean_precision = np.mean(precision) \n",
    "  mean_MCC = np.mean(MCC)\n",
    "  mean_F1  = np.mean(f1)\n",
    "  mean_recall = np.mean(recall)\n",
    "\n",
    "  print(\".....%s.....  \"% names[j])\n",
    "  print(\"\\nMCC : \" ,mean_MCC) \n",
    "  print(\"\\nrecall : \",mean_recall) \n",
    "  print(\"\\nf1: \",mean_F1) \n",
    "  print(\"\\nprecision: \", mean_precision)\n",
    "  print(\"***************************************\")  \n",
    "  i=0\n",
    "  j=j+1"
   ]
  },
  {
   "cell_type": "markdown",
   "metadata": {},
   "source": [
    "Comparison"
   ]
  },
  {
   "cell_type": "code",
   "execution_count": 65,
   "metadata": {
    "id": "_H7dxlpF-aer"
   },
   "outputs": [],
   "source": [
    "models =[log_reg, lightgbm, xgboost, catboost, voting1, voting2, voting3, voting4, clf]"
   ]
  },
  {
   "cell_type": "code",
   "execution_count": 66,
   "metadata": {
    "colab": {
     "base_uri": "https://localhost:8080/",
     "height": 592
    },
    "id": "PSmrdJX7QLRe",
    "outputId": "29cc8577-259e-4545-f441-cd1bb2d779f6"
   },
   "outputs": [
    {
     "data": {
      "image/png": "[encoded data removed]",
      "text/plain": [
       "<Figure size 720x720 with 1 Axes>"
      ]
     },
     "metadata": {
      "needs_background": "light"
     },
     "output_type": "display_data"
    }
   ],
   "source": [
    "from scipy import interp\n",
    "import matplotlib.pyplot as plt\n",
    "\n",
    "X = df.drop(['Class'] ,axis=1)\n",
    "y = df['Class']\n",
    "#colors=['#696969','#2E8B57','#DC143C', '#008080']\n",
    "colors=['#696969','#006633','#008080','#003366' ]\n",
    "f, ax = plt.subplots(ncols=1,nrows=1, figsize=(10,10))\n",
    "i=0\n",
    "j=0 \n",
    "x = np.arange(len(models)) \n",
    "xlim=[-0.05, 1.05]\n",
    "ylim=[0.5, 1.05]\n",
    "for model in models:\n",
    "  cv = StratifiedKFold(n_splits=5)\n",
    "  precision = []\n",
    "  recall = []\n",
    "  f1 = []\n",
    "  MCC = []\n",
    "\n",
    "  for train, test in cv.split(X, y):\n",
    "\n",
    "      pred = model.fit(X.iloc[train], y.iloc[train]).predict(X.iloc[test])\n",
    "      precision.append(precision_score(y.iloc[test], pred))\n",
    "      recall.append(recall_score(y.iloc[test], pred)) \n",
    "      f1.append(f1_score(y.iloc[test], pred)) \n",
    "      MCC.append(matthews_corrcoef(y.iloc[test], pred)) \n",
    "      i+=1\n",
    "  mean_precision = np.mean(precision) \n",
    "  mean_MCC = np.mean(MCC)\n",
    "  mean_F1  = np.mean(f1)\n",
    "  mean_recall = np.mean(recall)\n",
    "\n",
    "  ax.bar(j-0.2, mean_precision,0.2, color=colors[0],  label='Precision',edgecolor=\"black\", linewidth=1)\n",
    "  ax.bar(j-0.2+0.2, mean_MCC,0.2, color=colors[1], label='MCC',edgecolor=\"black\", linewidth=1)\n",
    "  ax.bar(j-0.2+0.4, mean_F1,0.2, color=colors[2], label='F1',edgecolor=\"black\", linewidth=1) \n",
    "  ax.bar(j-0.2+0.6,mean_recall ,0.2, color=colors[3], label ='Recall',edgecolor=\"black\", linewidth=1)\n",
    "  \n",
    "  plt.xticks([0, 1, 2, 3, 4, 5, 6, 7, 8],[\"Log_Reg\",\"LGBM\", \"XGBoost\", \"CatBoost\",\n",
    "                                               \"Vot_Lg,Xg,Ca\", \"Vot_Lg,Xg\",\n",
    "                                               \"Vot_Xg,Ca\", \"Vot_Lg,Ca\", \"Stacking Classifier\"], fontsize = 10, color = 'black')                                             \n",
    "  ax.legend(['Precision', 'MCC', 'F1-score' , 'Recall'], loc='upper left',prop={'size': 12}, facecolor='white', edgecolor='black')\n",
    "  ax.patch.set_facecolor('white')\n",
    "  ax.yaxis.grid(True, color = '#C0C0C0')\n",
    "  ax.patch.set_edgecolor('black')  \n",
    "  ax.patch.set_linewidth('1.5')\n",
    "  i=0\n",
    "  j=j+1\n",
    " \n",
    "plt.show()"
   ]
  },
  {
   "cell_type": "code",
   "execution_count": 67,
   "metadata": {},
   "outputs": [],
   "source": [
    "models =[log_reg, lightgbm, xgboost, catboost, voting1, voting2, voting3, voting4, clf]\n",
    "names = [\"Log_Reg\",\"LGBM\", \"XGB\", \"CatBoost\",\n",
    "        \"Vot_Lg,Xg,Ca\", \"Vot_Lg,Xg\",\n",
    "        \"Vot_Xg,Ca\", \"Vot_Lg,Ca\", \"Stacking\"] "
   ]
  },
  {
   "cell_type": "code",
   "execution_count": 68,
   "metadata": {},
   "outputs": [],
   "source": [
    "colors = ['#ff1493','#8A2BE2', '#FFFF00', '#7FFFD4', '#8A2BE2','#800000', '#008B8B', '#FFFF00', '#FF0000']"
   ]
  },
  {
   "cell_type": "code",
   "execution_count": 69,
   "metadata": {},
   "outputs": [
    {
     "data": {
      "image/png": "[encoded data removed]",
      "text/plain": [
       "<Figure size 648x936 with 1 Axes>"
      ]
     },
     "metadata": {
      "needs_background": "light"
     },
     "output_type": "display_data"
    }
   ],
   "source": [
    "from scipy import interp\n",
    "import matplotlib.pyplot as plt\n",
    "from sklearn.metrics import roc_curve, auc, roc_auc_score\n",
    "X = df.drop(['Class'] ,axis=1)\n",
    "y = df['Class']\n",
    "f, axes = plt.subplots(ncols=1,nrows=1, figsize=(9,13))\n",
    "linestyle=['-.','-.','-.','-.','','-.','','','']\n",
    "i=0\n",
    "j=0\n",
    "for model in models:\n",
    "  cv = StratifiedKFold(n_splits=5)\n",
    "  tprs = []\n",
    "  aucs = []\n",
    "  mean_fpr = np.linspace(0, 1, 100)\n",
    "\n",
    "  for train, test in cv.split(X, y):\n",
    "\n",
    "      probas_ = model.fit(X.iloc[train], y.iloc[train]).predict_proba(X.iloc[test])\n",
    "      fpr, tpr, thresholds = roc_curve(y.iloc[test], probas_[:,1])\n",
    "      tprs.append(interp(mean_fpr, fpr, tpr))\n",
    "      tprs[-1][0] = 0.0\n",
    "      roc_auc = auc(fpr, tpr)\n",
    "      aucs.append(roc_auc)\n",
    "      i+=1\n",
    "  mean_tpr = np.mean(tprs, axis=0)\n",
    "  mean_tpr[-1] = 1.0\n",
    "  mean_auc = auc(mean_fpr, mean_tpr)\n",
    "  axes.plot([0, 1], [0, 1], linestyle='--', lw=2, color='#808A87', alpha=.9)\n",
    "  axes.plot(mean_fpr, mean_tpr, color=colors[j],\n",
    "            label= r'%s(AUC = %0.4f)'% (names[j], mean_auc),\n",
    "            linestyle=linestyle[j], lw=2, alpha=0.9)\n",
    "  xlim=[-0.05, 1.05]\n",
    "  ylim=[-0.05, 1.05] \n",
    "  axes.legend(loc=\"lower right\", prop={'size': 14})  \n",
    "  i=0\n",
    "  j=j+1\n",
    "plt.xlabel('False Positive Rate',fontsize=14)\n",
    "plt.title('ROC_AUC', fontsize=14)\n",
    "plt.ylabel('True Positive Rate',fontsize=14) \n",
    "plt.ylim([-0.01,1.01])  \n",
    "plt.show()           "
   ]
  },
  {
   "cell_type": "code",
   "execution_count": 70,
   "metadata": {},
   "outputs": [],
   "source": [
    "colors = ['#ff1493','#8A2BE2', '#00FF00','#F4A460', '#808000','#FFD700', '#800000', '#008B8B', '#FF0000']"
   ]
  },
  {
   "cell_type": "code",
   "execution_count": 71,
   "metadata": {},
   "outputs": [
    {
     "data": {
      "image/png": "[encoded data removed]",
      "text/plain": [
       "<Figure size 648x648 with 1 Axes>"
      ]
     },
     "metadata": {
      "needs_background": "light"
     },
     "output_type": "display_data"
    }
   ],
   "source": [
    "from scipy import interp\n",
    "import matplotlib.pyplot as plt\n",
    "from sklearn.metrics import roc_curve, auc, roc_auc_score\n",
    "X = df.drop(['Class'] ,axis=1)\n",
    "y = df['Class']\n",
    "f, axes = plt.subplots(ncols=1,nrows=1, figsize=(9,9))\n",
    "\n",
    "i=0\n",
    "j=0\n",
    "for model in models:\n",
    "  cv = StratifiedKFold(n_splits=5)\n",
    "  tprs = []\n",
    "  aucs = []\n",
    "  mean_fpr = np.linspace(0, 1, 100)\n",
    "\n",
    "  for train, test in cv.split(X, y):\n",
    "\n",
    "      probas_ = model.fit(X.iloc[train], y.iloc[train]).predict_proba(X.iloc[test])\n",
    "      fpr, tpr, thresholds = roc_curve(y.iloc[test], probas_[:,1])\n",
    "      tprs.append(interp(mean_fpr, fpr, tpr))\n",
    "      tprs[-1][0] = 0.0\n",
    "      roc_auc = auc(fpr, tpr)\n",
    "      aucs.append(roc_auc)\n",
    "      i+=1\n",
    "  mean_tpr = np.mean(tprs, axis=0)\n",
    "  mean_tpr[-1] = 1.0\n",
    "  mean_auc = auc(mean_fpr, mean_tpr)\n",
    "  axes.plot([0, 1], [0, 1], linestyle='--', lw=2, color='#808A87', alpha=.9)\n",
    "  axes.plot(mean_fpr, mean_tpr, color=colors[j],\n",
    "            label= r'%s(AUC = %0.4f)'% (names[j], mean_auc),\n",
    "            linestyle='-.', lw=2, alpha=0.9)\n",
    "  xlim=[-0.05, 1.05]\n",
    "  ylim=[-0.05, 1.05]\n",
    "  axes.patch.set_facecolor('white')\n",
    "  axes.grid(True, color = '#E0E0E0')\n",
    "  axes.patch.set_edgecolor('black')  \n",
    "  axes.patch.set_linewidth('1.5') \n",
    "  axes.legend(loc=\"lower right\", prop={'size': 14}, facecolor = 'white', edgecolor='black')  \n",
    "  i=0\n",
    "  j=j+1\n",
    "plt.xlabel('False Positive Rate',fontsize=14)\n",
    "#plt.title('ROC_AUC', fontsize=14)\n",
    "plt.ylabel('True Positive Rate',fontsize=14)\n",
    "plt.xlim([-0.01,1.01])\n",
    "plt.ylim([0.49,1.01])   \n",
    "plt.show()"
   ]
  },
  {
   "cell_type": "code",
   "execution_count": 72,
   "metadata": {},
   "outputs": [],
   "source": [
    "models =[log_reg, lightgbm, xgboost, catboost, voting1, voting2, voting3, voting4, clf]\n",
    "names = [\"Log_Reg\",\"LGBM\", \"XGB\", \"CatBoost\",\n",
    "        \"Vot_Lg,Xg,Ca\", \"Vot_Lg,Xg\",\n",
    "        \"Vot_Xg,Ca\", \"Vot_Lg,Ca\", \"Stacking\"] "
   ]
  },
  {
   "cell_type": "code",
   "execution_count": 73,
   "metadata": {},
   "outputs": [
    {
     "data": {
      "image/png": "[encoded data removed]",
      "text/plain": [
       "<Figure size 648x648 with 1 Axes>"
      ]
     },
     "metadata": {
      "needs_background": "light"
     },
     "output_type": "display_data"
    }
   ],
   "source": [
    "import matplotlib.pyplot as plt\n",
    "import numpy\n",
    "from sklearn.datasets import make_blobs\n",
    "from sklearn.metrics import precision_recall_curve, auc\n",
    "from scipy import interp\n",
    "X = df.drop(['Class'] ,axis=1)\n",
    "y = df['Class']\n",
    "f, axes = plt.subplots(ncols=1,nrows=1, figsize=(9,9))\n",
    "i=0\n",
    "j=0\n",
    "for model in models:\n",
    "  cv = StratifiedKFold(n_splits=5)\n",
    "    # defining the lists\n",
    "  prs = []\n",
    "  aucs = []\n",
    "  mean_recall = np.linspace(0, 1, 100)\n",
    "  for train, test in cv.split(X, y):\n",
    "\n",
    "      probas_ = model.fit(X.iloc[train], y.iloc[train]).predict_proba(X.iloc[test])\n",
    "      # Compute PR curve and area the curve\n",
    "      precision, recall, thresholds = precision_recall_curve(y[test], probas_[:, 1])\n",
    "      prs.append(interp(mean_recall, precision, recall))\n",
    "      pr_auc = auc(recall, precision)\n",
    "      aucs.append(pr_auc)\n",
    "      i+=1\n",
    "  axes.plot([0, 1], [1, 0], linestyle='--', lw=2, color='#808A87', alpha=.9)\n",
    "  mean_precision = np.mean(prs, axis=0)\n",
    "  mean_auc = auc(mean_recall, mean_precision)\n",
    "  axes.step(mean_precision, mean_recall,\n",
    "             label=r'%s(AUC_PR = %0.4f)' % (names[j], mean_auc),\n",
    "             linestyle='-.',lw=2, alpha=0.9 , color=colors[j])\n",
    "             \n",
    "  xlim=[-0.05, 1.05]\n",
    "  ylim=[-0.05, 1.05]  \n",
    "  axes.patch.set_facecolor('white')\n",
    "  axes.grid(True, color = '#E0E0E0')\n",
    "  axes.patch.set_edgecolor('black')  \n",
    "  axes.patch.set_linewidth('1.5') \n",
    "  axes.legend(loc=\"lower left\", prop={'size': 14}, facecolor = 'white', edgecolor='black')\n",
    "  i=0\n",
    "  j=j+1\n",
    "#plt.title('AUC_Precision Recall Curve', fontsize=14)\n",
    "plt.xlabel('Recall',fontsize=14)\n",
    "plt.ylabel('Precision',fontsize=14)\n",
    " \n",
    "plt.show()"
   ]
  },
  {
   "cell_type": "markdown",
   "metadata": {
    "id": "ToZd4NAd2hys"
   },
   "source": [
    "# ***DeepLearning***"
   ]
  },
  {
   "cell_type": "markdown",
   "metadata": {
    "id": "-E88g9E5DQSe"
   },
   "source": [
    "# ***x,y train, test data***"
   ]
  },
  {
   "cell_type": "code",
   "execution_count": 74,
   "metadata": {
    "colab": {
     "base_uri": "https://localhost:8080/"
    },
    "id": "KMt7i0qcDQSg",
    "outputId": "7819db68-d489-49ef-bbb6-b7245bbb2e48"
   },
   "outputs": [
    {
     "name": "stdout",
     "output_type": "stream",
     "text": [
      "Train1 Shape: (22771, 32) \n",
      "Test1 Shape: (5693, 32)\n"
     ]
    }
   ],
   "source": [
    "train1, test1 = train_test_split(data, test_size = 0.2, random_state=42)\n",
    "print(\"Train1 Shape: {} \\nTest1 Shape: {}\".format(train1.shape, test1.shape))"
   ]
  },
  {
   "cell_type": "markdown",
   "metadata": {
    "id": "Z0pJ4OjIDQSh"
   },
   "source": [
    "###x,y train"
   ]
  },
  {
   "cell_type": "code",
   "execution_count": 75,
   "metadata": {
    "colab": {
     "base_uri": "https://localhost:8080/"
    },
    "id": "_HC3i3weDQSi",
    "outputId": "87ea056b-7043-4a04-988a-db0f502935a0"
   },
   "outputs": [
    {
     "name": "stdout",
     "output_type": "stream",
     "text": [
      "\n",
      "X_train1  shape: (22771, 31) \n",
      "y_train1 shape: (22771,)\n"
     ]
    }
   ],
   "source": [
    "X_train1  = train1.drop('Class', axis=1).values\n",
    "y_train1  = train1['Class'].values\n",
    "print('\\nX_train1  shape: {} \\ny_train1 shape: {}'.format(X_train1.shape, y_train1.shape))"
   ]
  },
  {
   "cell_type": "code",
   "execution_count": 76,
   "metadata": {
    "id": "HOIVoVCOv9d6"
   },
   "outputs": [],
   "source": [
    "from sklearn.preprocessing import RobustScaler\n",
    "robust_scaler = RobustScaler()\n",
    "X_train1  = robust_scaler.fit_transform(X_train1)"
   ]
  },
  {
   "cell_type": "markdown",
   "metadata": {
    "id": "l77EKUQjDQSi"
   },
   "source": [
    "###X, y test"
   ]
  },
  {
   "cell_type": "code",
   "execution_count": 77,
   "metadata": {
    "colab": {
     "base_uri": "https://localhost:8080/"
    },
    "id": "zWH-X1HWDQSj",
    "outputId": "3e27ce73-ccdd-41fb-a6bd-2dd427dd95dc"
   },
   "outputs": [
    {
     "name": "stdout",
     "output_type": "stream",
     "text": [
      "\n",
      "X_test1  shape: (5693, 31) \n",
      "y_test1 shape: (5693,)\n"
     ]
    }
   ],
   "source": [
    "X_test1  = test1.drop('Class', axis=1).values\n",
    "y_test1  = test1['Class']\n",
    "print('\\nX_test1  shape: {} \\ny_test1 shape: {}'.format(X_test1.shape, y_test1.shape))"
   ]
  },
  {
   "cell_type": "code",
   "execution_count": 78,
   "metadata": {
    "id": "5-eiH3JJzqrY"
   },
   "outputs": [],
   "source": [
    "from sklearn.preprocessing import RobustScaler\n",
    "rob_scaler = RobustScaler()\n",
    "\n",
    "X_test1 = rob_scaler.fit_transform(X_test1)"
   ]
  },
  {
   "cell_type": "markdown",
   "metadata": {
    "id": "3bBQHjn1--fV"
   },
   "source": [
    "#***genarate model***"
   ]
  },
  {
   "cell_type": "code",
   "execution_count": 79,
   "metadata": {
    "id": "uJvApqP2--fY"
   },
   "outputs": [],
   "source": [
    "def generate_model(batch_size, epochs, neuronPct):\n",
    "   \n",
    "    model = Sequential()\n",
    "    neurons = int(neuronPct * 100)\n",
    "    # So long as there would have been at least 20 neurons and fewer than 5layers, create a new layer. \n",
    "    layer = 0\n",
    "    while  round(neurons)>20 and layer <5:\n",
    "        # The first (0th) layer needs an input input_dim(neuronCount)\n",
    "        if layer==0:  \n",
    "           model.add(Dense(neurons,input_dim=31 , activation= 'relu', kernel_initializer='he_uniform'))\n",
    "        else:\n",
    "            model.add(Dense(neurons, activation='relu'))                \n",
    "\n",
    "        layer += 1\n",
    "        neurons = round((neurons +1)/2)\n",
    "\n",
    "    model.add(Dense(1,activation='sigmoid')) # Output\n",
    "    return model"
   ]
  },
  {
   "cell_type": "code",
   "execution_count": 80,
   "metadata": {
    "colab": {
     "base_uri": "https://localhost:8080/"
    },
    "id": "t7qBEBLT6iR3",
    "outputId": "b4cea3d8-5ae7-4d81-f624-433c7e400248"
   },
   "outputs": [
    {
     "name": "stdout",
     "output_type": "stream",
     "text": [
      "|   iter    |  target   | batch_... |  epochs   | neuronPct |\n",
      "-------------------------------------------------------------\n",
      "WARNING:tensorflow:From C:\\Users\\TruProjects\\Anaconda3\\lib\\site-packages\\tensorflow\\python\\ops\\array_ops.py:5049: calling gather (from tensorflow.python.ops.array_ops) with validate_indices is deprecated and will be removed in a future version.\n",
      "Instructions for updating:\n",
      "The `validate_indices` argument has no effect. Indices are always validated on CPU and never validated on GPU.\n",
      "WARNING:tensorflow:5 out of the last 5 calls to <function Model.make_test_function.<locals>.test_function at 0x000002B43C025318> triggered tf.function retracing. Tracing is expensive and the excessive number of tracings could be due to (1) creating @tf.function repeatedly in a loop, (2) passing tensors with different shapes, (3) passing Python objects instead of tensors. For (1), please define your @tf.function outside of the loop. For (2), @tf.function has experimental_relax_shapes=True option that relaxes argument shapes that can avoid unnecessary retracing. For (3), please refer to https://www.tensorflow.org/guide/function#controlling_retracing and https://www.tensorflow.org/api_docs/python/tf/function for  more details.\n",
      "| \u001b[0m 1       \u001b[0m | \u001b[0m-15.62   \u001b[0m | \u001b[0m 2.919e+0\u001b[0m | \u001b[0m 104.6   \u001b[0m | \u001b[0m 0.8362  \u001b[0m |\n",
      "WARNING:tensorflow:6 out of the last 6 calls to <function Model.make_test_function.<locals>.test_function at 0x000002B437A79288> triggered tf.function retracing. Tracing is expensive and the excessive number of tracings could be due to (1) creating @tf.function repeatedly in a loop, (2) passing tensors with different shapes, (3) passing Python objects instead of tensors. For (1), please define your @tf.function outside of the loop. For (2), @tf.function has experimental_relax_shapes=True option that relaxes argument shapes that can avoid unnecessary retracing. For (3), please refer to https://www.tensorflow.org/guide/function#controlling_retracing and https://www.tensorflow.org/api_docs/python/tf/function for  more details.\n",
      "| \u001b[95m 2       \u001b[0m | \u001b[95m-11.6    \u001b[0m | \u001b[95m 1.306e+0\u001b[0m | \u001b[95m 117.8   \u001b[0m | \u001b[95m 0.6025  \u001b[0m |\n",
      "| \u001b[95m 3       \u001b[0m | \u001b[95m-4.126   \u001b[0m | \u001b[95m 1.793e+0\u001b[0m | \u001b[95m 126.1   \u001b[0m | \u001b[95m 0.78    \u001b[0m |\n",
      "| \u001b[0m 4       \u001b[0m | \u001b[0m-11.37   \u001b[0m | \u001b[0m 3.087e+0\u001b[0m | \u001b[0m 78.3    \u001b[0m | \u001b[0m 0.7587  \u001b[0m |\n",
      "| \u001b[0m 5       \u001b[0m | \u001b[0m-16.22   \u001b[0m | \u001b[0m 2.614e+0\u001b[0m | \u001b[0m 75.47   \u001b[0m | \u001b[0m 0.8467  \u001b[0m |\n",
      "| \u001b[0m 6       \u001b[0m | \u001b[0m-20.4    \u001b[0m | \u001b[0m 2.835e+0\u001b[0m | \u001b[0m 75.3    \u001b[0m | \u001b[0m 0.704   \u001b[0m |\n",
      "| \u001b[95m 7       \u001b[0m | \u001b[95m-1.805   \u001b[0m | \u001b[95m 1.793e+0\u001b[0m | \u001b[95m 123.5   \u001b[0m | \u001b[95m 0.6536  \u001b[0m |\n",
      "| \u001b[95m 8       \u001b[0m | \u001b[95m-0.9936  \u001b[0m | \u001b[95m 1.793e+0\u001b[0m | \u001b[95m 119.3   \u001b[0m | \u001b[95m 0.51    \u001b[0m |\n",
      "| \u001b[0m 9       \u001b[0m | \u001b[0m-2.131   \u001b[0m | \u001b[0m 1.784e+0\u001b[0m | \u001b[0m 118.8   \u001b[0m | \u001b[0m 0.9948  \u001b[0m |\n",
      "| \u001b[0m 10      \u001b[0m | \u001b[0m-13.98   \u001b[0m | \u001b[0m 1.806e+0\u001b[0m | \u001b[0m 114.0   \u001b[0m | \u001b[0m 0.7703  \u001b[0m |\n",
      "| \u001b[0m 11      \u001b[0m | \u001b[0m-6.128   \u001b[0m | \u001b[0m 1.789e+0\u001b[0m | \u001b[0m 121.8   \u001b[0m | \u001b[0m 0.6506  \u001b[0m |\n",
      "| \u001b[0m 12      \u001b[0m | \u001b[0m-3.747   \u001b[0m | \u001b[0m 1.783e+0\u001b[0m | \u001b[0m 113.9   \u001b[0m | \u001b[0m 0.8012  \u001b[0m |\n",
      "| \u001b[0m 13      \u001b[0m | \u001b[0m-8.881   \u001b[0m | \u001b[0m 1.779e+0\u001b[0m | \u001b[0m 117.5   \u001b[0m | \u001b[0m 0.9555  \u001b[0m |\n",
      "| \u001b[0m 14      \u001b[0m | \u001b[0m-8.062   \u001b[0m | \u001b[0m 1.796e+0\u001b[0m | \u001b[0m 120.7   \u001b[0m | \u001b[0m 0.8572  \u001b[0m |\n",
      "| \u001b[0m 15      \u001b[0m | \u001b[0m-9.382   \u001b[0m | \u001b[0m 1.793e+0\u001b[0m | \u001b[0m 114.6   \u001b[0m | \u001b[0m 0.7284  \u001b[0m |\n",
      "| \u001b[0m 16      \u001b[0m | \u001b[0m-9.025   \u001b[0m | \u001b[0m 1.792e+0\u001b[0m | \u001b[0m 121.3   \u001b[0m | \u001b[0m 0.5554  \u001b[0m |\n",
      "=============================================================\n",
      "It takes 0.7714990258216858 minutes\n",
      "{'batch_size': 1793, 'epochs': 119, 'neuronPct': 0.51}\n"
     ]
    }
   ],
   "source": [
    "def keras_cv(batch_size, epochs, neuronPct):\n",
    "    cv = StratifiedKFold(n_splits=5)\n",
    "    num = 0\n",
    "    for train, test in cv.split(X_train1, y_train1):\n",
    "        num+=1\n",
    "        # Split train and test\n",
    "        x_train = X_train1[train]\n",
    "        Y_train = y_train1[train]\n",
    "        x_test = X_train1[test]\n",
    "        Y_test = y_train1[test]\n",
    "        model = generate_model(batch_size, epochs, neuronPct)\n",
    "        opt = tf.keras.optimizers.Adam() #optimizer\n",
    "        model.compile(optimizer=opt, loss='binary_crossentropy', metrics=['accuracy'])\n",
    "        callback = tf.keras.callbacks.EarlyStopping(monitor=\"val_loss\")\n",
    "        params_dl['batch_size'] = round(batch_size)\n",
    "        params_dl['epochs'] = round(epochs)\n",
    "        params_dl['neuronPct'] = neuronPct\n",
    "        model.fit(x_train,Y_train,validation_split=0.1\n",
    "                  ,class_weight={0:0.25, 1:148}\n",
    "                  ,callbacks=[callback]\n",
    "                  ,verbose=0,epochs=round(epochs), batch_size=round(batch_size))\n",
    "\n",
    "        # Predict on the out of boot (validation)\n",
    "        proba = model.predict(x_test)\n",
    "        pred = (model.predict(x_test)> 0.5)\n",
    "        score = metrics.log_loss(Y_test, pred)\n",
    "    tensorflow.keras.backend.clear_session()\n",
    "    return (-(np.mean(score)))\n",
    "\n",
    "params_dl={'batch_size' : (1000,3500),\n",
    "           'epochs' : (25,150),\n",
    "           'neuronPct': (0.51, 1)\n",
    "           }   \n",
    "\n",
    "dlBO = BayesianOptimization(keras_cv, params_dl, verbose=2)\n",
    "# verbose = 1 prints only when a maximum \n",
    "# is observed, verbose = 0 is silent\n",
    "start = time.time()\n",
    "dlBO.maximize(init_points=6, n_iter =10, acq='ei')\n",
    "\n",
    "print('It takes %s minutes' % ((time.time() - start)/60))\n",
    "\n",
    "params_dl = dlBO.max['params']\n",
    "params_dl['epochs'] = round(params_dl['epochs'])\n",
    "params_dl['batch_size'] = round(params_dl['batch_size'])\n",
    "params_dl['neuronPct'] = round((params_dl['neuronPct']), 2)\n",
    "print(params_dl)"
   ]
  },
  {
   "cell_type": "markdown",
   "metadata": {
    "id": "1KuNzOs-ByYC"
   },
   "source": [
    "#***model summury***"
   ]
  },
  {
   "cell_type": "code",
   "execution_count": 81,
   "metadata": {
    "id": "9BeDtDXD6mFv"
   },
   "outputs": [],
   "source": [
    "model = generate_model(batch_size= 1563 ,epochs=117 ,neuronPct=0.86)"
   ]
  },
  {
   "cell_type": "code",
   "execution_count": 82,
   "metadata": {
    "colab": {
     "base_uri": "https://localhost:8080/"
    },
    "id": "5uphNWLd6sET",
    "outputId": "e252cd50-beab-4194-d58c-81ea6c47f97d"
   },
   "outputs": [
    {
     "name": "stdout",
     "output_type": "stream",
     "text": [
      "Model: \"sequential\"\n",
      "_________________________________________________________________\n",
      "Layer (type)                 Output Shape              Param #   \n",
      "=================================================================\n",
      "dense (Dense)                (None, 86)                2752      \n",
      "_________________________________________________________________\n",
      "dense_1 (Dense)              (None, 44)                3828      \n",
      "_________________________________________________________________\n",
      "dense_2 (Dense)              (None, 22)                990       \n",
      "_________________________________________________________________\n",
      "dense_3 (Dense)              (None, 1)                 23        \n",
      "=================================================================\n",
      "Total params: 7,593\n",
      "Trainable params: 7,593\n",
      "Non-trainable params: 0\n",
      "_________________________________________________________________\n"
     ]
    }
   ],
   "source": [
    "model.summary()"
   ]
  },
  {
   "cell_type": "markdown",
   "metadata": {
    "id": "VrNYC9baB3GK"
   },
   "source": [
    "#***result keras***"
   ]
  },
  {
   "cell_type": "code",
   "execution_count": 83,
   "metadata": {
    "id": "_E1Voqi8iHrE"
   },
   "outputs": [],
   "source": [
    "opt = tf.keras.optimizers.Adam() #optimizer\n",
    "\n",
    "model.compile(optimizer=opt, loss=tf.keras.losses.BinaryCrossentropy(), metrics=['accuracy'])\n",
    "\n",
    "history = model.fit(X_train1, y_train1, epochs =117 ,\n",
    "                    batch_size=1563,validation_split = 0.1\n",
    "                    ,class_weight={0:0.25, 1:148}  \n",
    "                    ,verbose = 0)\n",
    "history_dict = history.history     \n",
    "y_prob = model.predict(X_test1)    \n",
    "y_pred = (model.predict(X_test1)> 0.5).astype(\"int32\")"
   ]
  },
  {
   "cell_type": "code",
   "execution_count": 84,
   "metadata": {
    "colab": {
     "base_uri": "https://localhost:8080/"
    },
    "id": "QlKwXE9f4iFw",
    "outputId": "41a57520-9ecc-4790-cc21-f74bcf7dfa7a"
   },
   "outputs": [
    {
     "name": "stdout",
     "output_type": "stream",
     "text": [
      "              precision    recall  f1-score   support\n",
      "\n",
      "           0       1.00      1.00      1.00      5683\n",
      "           1       0.50      0.50      0.50        10\n",
      "\n",
      "    accuracy                           1.00      5693\n",
      "   macro avg       0.75      0.75      0.75      5693\n",
      "weighted avg       1.00      1.00      1.00      5693\n",
      "\n",
      "[[5678    5]\n",
      " [   5    5]]\n",
      "\n",
      "\n",
      "--------- Summary ------------\n",
      "\n",
      "\n",
      "accuracy: 0.9982\n",
      "Precision: 0.5\n",
      "f1: 0.5\n",
      "Recall: 0.5\n",
      "AUC: 0.6169\n",
      "Precision-Recall: 0.5011\n",
      "MCC: 0.4991201830019356\n"
     ]
    }
   ],
   "source": [
    "print(classification_report(y_test1 , y_pred))\n",
    "print(confusion_matrix(y_test1 , y_pred))\n",
    "\n",
    "# summary  \n",
    "print('\\n')\n",
    "print('--------- Summary ------------')\n",
    "print('\\n')\n",
    "print('accuracy: {}'.format(round(accuracy_score(y_test1, y_pred),4)))\n",
    "print('Precision: {}'.format(round(precision_score(y_test1, y_pred),4)))\n",
    "print('f1: {}'.format(round(metrics.f1_score(y_test1, y_pred),4)))\n",
    "print('Recall: {}'.format(round(recall_score(y_test1, y_pred),4)))\n",
    "print('AUC: {}'.format(round(roc_auc_score(y_test1, y_prob),4)))\n",
    "print('Precision-Recall: {}'.format(round(average_precision_score(y_test1, y_prob),4)))\n",
    "print('MCC: {}'.format((matthews_corrcoef(y_test1, y_pred))))"
   ]
  },
  {
   "cell_type": "markdown",
   "metadata": {
    "id": "2Wr9dGq6CCoz"
   },
   "source": [
    "#***diagram loss , accuracy train***"
   ]
  },
  {
   "cell_type": "code",
   "execution_count": 85,
   "metadata": {
    "colab": {
     "base_uri": "https://localhost:8080/"
    },
    "id": "H_uZe-X94iFz",
    "outputId": "b2235dcf-9272-4d08-ce1b-e633a0d48ddf"
   },
   "outputs": [
    {
     "data": {
      "text/plain": [
       "Text(0.5, 1.0, 'val_loss')"
      ]
     },
     "execution_count": 85,
     "metadata": {},
     "output_type": "execute_result"
    },
    {
     "data": {
      "image/png": "[encoded data removed]",
      "text/plain": [
       "<Figure size 432x360 with 1 Axes>"
      ]
     },
     "metadata": {
      "needs_background": "light"
     },
     "output_type": "display_data"
    }
   ],
   "source": [
    "loss_values = history_dict['loss']\n",
    "val_loss_values=history_dict['val_loss']\n",
    "f, ax = plt.subplots(ncols=1,nrows=1, figsize=(6,5))\n",
    "plt.plot(loss_values,'b',label='training loss')\n",
    "plt.plot(val_loss_values,'r',label='val training loss')\n",
    "ax.patch.set_facecolor('white')\n",
    "ax.grid(True, color = '#E0E0E0')\n",
    "ax.patch.set_edgecolor('black')  \n",
    "ax.patch.set_linewidth('1.5') \n",
    "ax.legend(loc=\"upper right\", prop={'size': 14}, facecolor = 'white', edgecolor='black')\n",
    "plt.xlabel(\"Epochs\")\n",
    "plt.ylabel(\"loss\")\n",
    "plt.title('val_loss', fontsize=14)"
   ]
  },
  {
   "cell_type": "code",
   "execution_count": 86,
   "metadata": {
    "colab": {
     "base_uri": "https://localhost:8080/"
    },
    "id": "91BmjHs64iFz",
    "outputId": "c9b25b11-6cf8-45e6-e334-20c82fca5747"
   },
   "outputs": [
    {
     "data": {
      "text/plain": [
       "Text(0.5, 1.0, 'val_accuracy')"
      ]
     },
     "execution_count": 86,
     "metadata": {},
     "output_type": "execute_result"
    },
    {
     "data": {
      "image/png": "[encoded data removed]",
      "text/plain": [
       "<Figure size 432x360 with 1 Axes>"
      ]
     },
     "metadata": {
      "needs_background": "light"
     },
     "output_type": "display_data"
    }
   ],
   "source": [
    "accuracy_values = history_dict['accuracy']\n",
    "val_accuracy_values=history_dict['val_accuracy']\n",
    "f, ax = plt.subplots(ncols=1,nrows=1, figsize=(6,5))\n",
    "plt.plot(val_accuracy_values,'-r',label='val_accuracy')\n",
    "plt.plot(accuracy_values,'-b',label='accuracy')\n",
    "ax.patch.set_facecolor('white')\n",
    "ax.grid(True, color = '#E0E0E0')\n",
    "ax.patch.set_edgecolor('black')  \n",
    "ax.patch.set_linewidth('1.5') \n",
    "ax.legend(loc=\"lower right\", prop={'size': 14}, facecolor = 'white', edgecolor='black')\n",
    "plt.xlabel(\"Epochs\")\n",
    "plt.ylabel(\"accuracy\")\n",
    "plt.title('val_accuracy', fontsize=14)"
   ]
  },
  {
   "cell_type": "markdown",
   "metadata": {
    "id": "f7vS0TzfB7Ij"
   },
   "source": [
    "#***diagram roc_auc***"
   ]
  },
  {
   "cell_type": "code",
   "execution_count": 87,
   "metadata": {
    "colab": {
     "base_uri": "https://localhost:8080/"
    },
    "id": "4pVCaXNf4iF0",
    "outputId": "e97a4b60-7c60-48d4-bb11-ac7fbf37d727"
   },
   "outputs": [
    {
     "data": {
      "image/png": "[encoded data removed]",
      "text/plain": [
       "<Figure size 432x360 with 1 Axes>"
      ]
     },
     "metadata": {
      "needs_background": "light"
     },
     "output_type": "display_data"
    }
   ],
   "source": [
    "from sklearn.metrics import roc_curve\n",
    "fpr, tpr, thresholds = roc_curve(y_test1, y_prob,pos_label=True)\n",
    "from sklearn.metrics import auc\n",
    "f, ax = plt.subplots(ncols=1,nrows=1, figsize=(6,5))\n",
    "auc = auc(fpr, tpr)\n",
    "ax.plot([0, 1], [0, 1], 'k--')\n",
    "ax.plot(fpr, tpr,color = \"#0101DF\", label='keras(ROC_AUC = {:.4f})'.format(auc))\n",
    "plt.xlabel('False Positive Rate',fontsize=14)\n",
    "plt.ylabel('True Positive Rate',fontsize=14)\n",
    "plt.title('ROC_AUC', fontsize=14) \n",
    "ax.patch.set_facecolor('white')\n",
    "ax.grid(True, color = '#E0E0E0')\n",
    "ax.patch.set_edgecolor('black')  \n",
    "ax.patch.set_linewidth('1.5') \n",
    "ax.legend(loc=\"lower right\", prop={'size': 14}, facecolor = 'white', edgecolor='black')\n",
    "plt.show()"
   ]
  },
  {
   "cell_type": "code",
   "execution_count": 88,
   "metadata": {
    "colab": {
     "base_uri": "https://localhost:8080/"
    },
    "id": "n58F943Q4iF1",
    "outputId": "2029ed9d-3b96-4802-80a7-dfa95f8285c0"
   },
   "outputs": [
    {
     "data": {
      "image/png": "[encoded data removed]",
      "text/plain": [
       "<Figure size 432x360 with 1 Axes>"
      ]
     },
     "metadata": {
      "needs_background": "light"
     },
     "output_type": "display_data"
    }
   ],
   "source": [
    "from sklearn.metrics import roc_curve\n",
    "fpr, tpr, thresholds = roc_curve(y_test1, y_prob,pos_label=True)\n",
    "from sklearn.metrics import auc\n",
    "f, ax = plt.subplots(ncols=1,nrows=1, figsize=(6,5))\n",
    "auc = auc(fpr, tpr)\n",
    "ax.plot([0, 1], [0, 1], 'k--')\n",
    "ax.plot(fpr, tpr,color = \"#0101DF\", label='keras(ROC_AUC = {:.4f})'.format(auc))\n",
    "plt.xlabel('False Positive Rate',fontsize=14)\n",
    "plt.ylabel('True Positive Rate',fontsize=14)\n",
    "#plt.title('ROC_AUC', fontsize=14) \n",
    "ax.patch.set_facecolor('white')\n",
    "ax.grid(True, color = '#E0E0E0')\n",
    "ax.patch.set_edgecolor('black')  \n",
    "ax.patch.set_linewidth('1.5') \n",
    "ax.legend(loc=\"lower right\", prop={'size': 14}, facecolor = 'white', edgecolor='black')\n",
    "plt.show()"
   ]
  },
  {
   "cell_type": "markdown",
   "metadata": {
    "id": "nhy9rHTXCGut"
   },
   "source": [
    "#***diagram precision recall***"
   ]
  },
  {
   "cell_type": "code",
   "execution_count": 89,
   "metadata": {
    "colab": {
     "base_uri": "https://localhost:8080/"
    },
    "id": "CQDv_xWp4iF2",
    "outputId": "be94ea1c-e526-4f4b-c014-90f027648a68"
   },
   "outputs": [
    {
     "data": {
      "image/png": "[encoded data removed]",
      "text/plain": [
       "<Figure size 432x360 with 1 Axes>"
      ]
     },
     "metadata": {
      "needs_background": "light"
     },
     "output_type": "display_data"
    }
   ],
   "source": [
    "from sklearn.metrics import precision_recall_curve\n",
    "precision,recall, _ = precision_recall_curve(y_test1, y_prob)\n",
    "f, ax = plt.subplots(ncols=1,nrows=1, figsize=(6,5))\n",
    "plt.plot([0, 1], [1, 0], linestyle='--', lw=2, color='#808A87', alpha=.8)\n",
    "plt.plot(precision,recall,  color=\"#DF0101\", label='keras(AUC_PR = {:.4f})'.format(round(average_precision_score(y_test1, y_prob),4)))\n",
    "#plt.plot(precision,recall,  color=\"#DF0101\", label='keras(AUC_PR)')\n",
    "plt.xlabel('Recall',fontsize=14)\n",
    "plt.ylabel('Precision',fontsize=14)\n",
    "#plt.title('Precision-Recall curve',fontsize=14) \n",
    "ax.patch.set_facecolor('white')\n",
    "ax.grid(True, color = '#E0E0E0')\n",
    "ax.patch.set_edgecolor('black')  \n",
    "ax.patch.set_linewidth('1.5') \n",
    "ax.legend(loc=\"lower left\", prop={'size': 14}, facecolor = 'white', edgecolor='black')\n",
    "plt.show()"
   ]
  },
  {
   "cell_type": "markdown",
   "metadata": {},
   "source": [
    "# Accuracy Comparison"
   ]
  },
  {
   "cell_type": "code",
   "execution_count": 90,
   "metadata": {},
   "outputs": [],
   "source": [
    "log_reg = model_accuracy[0]\n",
    "lightgbm = model_accuracy[1]\n",
    "xgboost = model_accuracy[2]\n",
    "catboost = model_accuracy[3]\n",
    "voting1 = model_accuracy[4]\n",
    "voting2 = model_accuracy[5]\n",
    "voting3 = model_accuracy[6]\n",
    "voting4 = model_accuracy[7]\n",
    "stack = model_accuracy[8]"
   ]
  },
  {
   "cell_type": "code",
   "execution_count": 91,
   "metadata": {},
   "outputs": [],
   "source": [
    "nn = accuracy_values[10]"
   ]
  },
  {
   "cell_type": "code",
   "execution_count": 92,
   "metadata": {},
   "outputs": [],
   "source": [
    "score = [log_reg,lightgbm,xgboost,catboost,voting1,voting2,voting3,voting4,stack,nn]"
   ]
  },
  {
   "cell_type": "code",
   "execution_count": 93,
   "metadata": {},
   "outputs": [
    {
     "name": "stdout",
     "output_type": "stream",
     "text": [
      "[0 1 2 3 4 5 6 7 8 9]\n",
      "[0.9969084594153983, 0.9991216914066035, 0.9992622272003974, 0.9969084594153983, 0.9991216914066035, 0.9992622272003974, 0.9992270963379347, 0.9993324827533512, 0.999086572888084, 0.9950714707374573]\n"
     ]
    }
   ],
   "source": [
    "#make variabel for save the result and to show it\n",
    "classifier = ('Logistic Regression','LightGBM','XGBoost','CATBoost','LG+XG+CA','LG+XG','XG+CA','LG+CA','Stacking Classifier','Neural Network')\n",
    "y_pos = np.arange(len(classifier))\n",
    "print(y_pos)\n",
    "print(score)"
   ]
  },
  {
   "cell_type": "code",
   "execution_count": 94,
   "metadata": {},
   "outputs": [
    {
     "data": {
      "image/png": "[encoded data removed]",
      "text/plain": [
       "<Figure size 576x504 with 1 Axes>"
      ]
     },
     "metadata": {
      "needs_background": "light"
     },
     "output_type": "display_data"
    }
   ],
   "source": [
    "import matplotlib.pyplot as plt2\n",
    "plt2.barh(y_pos, score, align='center', alpha=0.5,color='blue')\n",
    "plt2.yticks(y_pos, classifier)\n",
    "plt2.xlabel('Score')\n",
    "plt2.title('Classification Performance')\n",
    "plt2.show()"
   ]
  },
  {
   "cell_type": "code",
   "execution_count": 9,
   "metadata": {},
   "outputs": [],
   "source": [
    "import numpy as np\n",
    "import pandas as pd\n",
    "\n",
    "data = pd.read_csv('processed.csv')"
   ]
  },
  {
   "cell_type": "code",
   "execution_count": 10,
   "metadata": {},
   "outputs": [
    {
     "name": "stdout",
     "output_type": "stream",
     "text": [
      "<class 'pandas.core.frame.DataFrame'>\n",
      "RangeIndex: 28464 entries, 0 to 28463\n",
      "Data columns (total 8 columns):\n",
      "Unnamed: 0    28464 non-null int64\n",
      "V10           28464 non-null float64\n",
      "V11           28464 non-null float64\n",
      "V12           28464 non-null float64\n",
      "V14           28464 non-null float64\n",
      "V16           28464 non-null float64\n",
      "V17           28464 non-null float64\n",
      "Class         28464 non-null int64\n",
      "dtypes: float64(6), int64(2)\n",
      "memory usage: 1.7 MB\n"
     ]
    }
   ],
   "source": [
    "data.info()"
   ]
  },
  {
   "cell_type": "code",
   "execution_count": 11,
   "metadata": {},
   "outputs": [],
   "source": [
    "del data['Unnamed: 0']"
   ]
  },
  {
   "cell_type": "code",
   "execution_count": 12,
   "metadata": {},
   "outputs": [],
   "source": [
    "X = data.iloc[:, 0:6]\n",
    "y = data.iloc[:,6]"
   ]
  },
  {
   "cell_type": "code",
   "execution_count": 13,
   "metadata": {},
   "outputs": [],
   "source": [
    "from sklearn.preprocessing import StandardScaler\n",
    "from sklearn.model_selection import train_test_split\n",
    "\n",
    "X_train, X_test, y_train, y_test = train_test_split(X, y,test_size=0.30, random_state=1)"
   ]
  },
  {
   "cell_type": "code",
   "execution_count": 14,
   "metadata": {},
   "outputs": [],
   "source": [
    "#Extension\n",
    "from sklearn.ensemble import RandomForestClassifier\n",
    "from sklearn.tree import DecisionTreeClassifier\n",
    "from sklearn.ensemble import GradientBoostingClassifier\n",
    "\n",
    "from sklearn.ensemble import StackingClassifier\n",
    "\n",
    "estimators = [('rf', RandomForestClassifier(n_estimators=1000, random_state=4000)),('lgbm', LGBMClassifier(learning_rate='0.182', max_depth= '8', num_leaves= '33', class_weight='balanced'))]\n",
    "\n",
    "clf = StackingClassifier(estimators=estimators, final_estimator=GradientBoostingClassifier(n_estimators=1000, learning_rate=1.0,max_depth=1, random_state=200))\n"
   ]
  },
  {
   "cell_type": "code",
   "execution_count": 15,
   "metadata": {},
   "outputs": [],
   "source": [
    "clf.fit(X_train, y_train)\n",
    "predictions = clf.predict(X_test)"
   ]
  },
  {
   "cell_type": "code",
   "execution_count": 16,
   "metadata": {},
   "outputs": [
    {
     "name": "stdout",
     "output_type": "stream",
     "text": [
      "*Classification Matrix for RF: \n",
      "              precision    recall  f1-score   support\n",
      "\n",
      "           0       1.00      1.00      1.00      8525\n",
      "           1       0.92      0.80      0.86        15\n",
      "\n",
      "    accuracy                           1.00      8540\n",
      "   macro avg       0.96      0.90      0.93      8540\n",
      "weighted avg       1.00      1.00      1.00      8540\n",
      "\n"
     ]
    }
   ],
   "source": [
    "print(\"*Classification Matrix for RF: \")\n",
    "print(classification_report(y_test, predictions))"
   ]
  },
  {
   "cell_type": "code",
   "execution_count": 17,
   "metadata": {},
   "outputs": [
    {
     "data": {
      "text/plain": [
       "['model_.sav']"
      ]
     },
     "execution_count": 17,
     "metadata": {},
     "output_type": "execute_result"
    }
   ],
   "source": [
    "import joblib\n",
    "filename = 'model_.sav'\n",
    "joblib.dump(clf, filename)"
   ]
  },
  {
   "cell_type": "code",
   "execution_count": null,
   "metadata": {},
   "outputs": [],
   "source": []
  }
 ],
 "metadata": {
  "accelerator": "GPU",
  "colab": {
   "collapsed_sections": [
    "xIkQuF_bErp5",
    "_cYFHYRGhpeJ",
    "FQ1UhAM2bA8c",
    "Z_wjwYwqIXod",
    "Th6-xHIrHOvZ",
    "wN1KcHcHte6h",
    "CWIYpNQJG0pg",
    "NXj3NEalHIla",
    "A1yyBkafEfog",
    "rm6JC2uMTyfm",
    "MQjSODMi_K_v",
    "SjcjNg6I_YxJ",
    "41TUGwtt_noC",
    "36IPzxxBBb37",
    "VenJ_iNTV0wo",
    "8GrsoHwaF56q",
    "RTW6o1dJmGVz",
    "7Pc3NhUcoHQi",
    "RPivywgGohTF",
    "XOkxHYL0ilp4",
    "PM7LLx3ZByqZ",
    "9KGHFEcs9_rV",
    "l-eev_73jeIT",
    "hL0UKrDUCImr",
    "-E88g9E5DQSe",
    "Z0pJ4OjIDQSh",
    "l77EKUQjDQSi",
    "3bBQHjn1--fV",
    "1KuNzOs-ByYC",
    "VrNYC9baB3GK",
    "2Wr9dGq6CCoz",
    "f7vS0TzfB7Ij",
    "nhy9rHTXCGut"
   ],
   "name": "Fraud Detection in Banking Data by Machine Learning Techniques.ipynb",
   "provenance": []
  },
  "kernelspec": {
   "display_name": "Python 3",
   "language": "python",
   "name": "python3"
  },
  "language_info": {
   "codemirror_mode": {
    "name": "ipython",
    "version": 3
   },
   "file_extension": ".py",
   "mimetype": "text/x-python",
   "name": "python",
   "nbconvert_exporter": "python",
   "pygments_lexer": "ipython3",
   "version": "3.7.4"
  }
 },
 "nbformat": 4,
 "nbformat_minor": 1
}
